{
 "cells": [
  {
   "cell_type": "markdown",
   "id": "9beb4630-0f89-4058-9b5e-ce6d745e0496",
   "metadata": {},
   "source": [
    "<div style=\"float:left\">\n",
    "    <h1 style=\"width:600px\">Assessment</h1>\n",
    "    <h3 style=\"width:600px\">CASA0006: Data Science for Spatial Systems</h3>\n",
    "    <h3 style=\"width:600px\">Author: Andres Restrepo</h3>\n",
    "\n",
    "</div>\n",
    "<div style=\"float:right\"><img width=\"100\" src=\"https://github.com/jreades/i2p/raw/master/img/casa_logo.jpg\" /></div>"
   ]
  },
  {
   "cell_type": "markdown",
   "id": "8c8a46e8-516d-4d33-8b29-8d030cebd881",
   "metadata": {
    "tags": []
   },
   "source": [
    "MSc Urban Spatial Science<br>\n",
    "Centre for Advanced Spatial Analysis CASA<br>\n",
    "University College London UCL"
   ]
  },
  {
   "cell_type": "markdown",
   "id": "05c29f07-0cb4-466c-866d-6de64f240fc5",
   "metadata": {},
   "source": [
    "### Size and execution time notice\n",
    "\n",
    "**1. Pre-processing:** As the non-spatial raw data required in this research exceed the 100 megabyte limit and the download might endanger the successful execution of the notebook, the initial input of the code will be already pre-processed data. The notebook contains the code used for the cleaning and pre-processing in case future reproduction. Regarding the spatial data, there is no issue with it and it will be reading locally.\n",
    "\n",
    "**2. Time of execution:** As the spatial clustering sections includes 6 scenarios when running the max-p method (1102 polygons), that section alone needs around 12 minutes to execute (16 GB RAM, Windows 11).\n",
    "\n"
   ]
  },
  {
   "cell_type": "markdown",
   "id": "dab5616b-956e-4519-b56d-97f3ff14a721",
   "metadata": {
    "tags": []
   },
   "source": [
    "### Requered libraries"
   ]
  },
  {
   "cell_type": "code",
   "execution_count": 1,
   "id": "8845e105-48f6-4984-beee-443646dd7d56",
   "metadata": {},
   "outputs": [],
   "source": [
    "# Execution time measure\n",
    "import timeit\n",
    "start_time = timeit.default_timer()\n",
    "\n",
    "#Preprocesing and visualizing\n",
    "import os\n",
    "import urllib.request\n",
    "from urllib.request import urlopen\n",
    "import zipfile\n",
    "import geopandas as gpd\n",
    "import numpy as np\n",
    "import pandas as pd\n",
    "import seaborn as sns\n",
    "import matplotlib.pyplot as plt\n",
    "from sklearn.preprocessing import MinMaxScaler\n",
    "\n",
    "#Clustering\n",
    "from sklearn.cluster import KMeans, DBSCAN, OPTICS, AgglomerativeClustering\n",
    "from sklearn import metrics\n",
    "from scipy.cluster.hierarchy import dendrogram\n",
    "import spopt\n",
    "from spopt.region import MaxPHeuristic as MaxP\n",
    "import libpysal\n",
    "import warnings\n",
    "import contextily\n",
    "import esda\n",
    "\n",
    "from IPython.display import Image\n",
    "from IPython.core.display import HTML "
   ]
  },
  {
   "cell_type": "code",
   "execution_count": null,
   "id": "8a6ab4fe-39f1-4512-9cb6-d54860333b1f",
   "metadata": {},
   "outputs": [],
   "source": []
  },
  {
   "cell_type": "markdown",
   "id": "2ac32db6-df7f-4ebe-98a3-15394d6a862c",
   "metadata": {
    "tags": []
   },
   "source": [
    "# Introduction"
   ]
  },
  {
   "cell_type": "markdown",
   "id": "51df51c0-eb03-46c5-b082-ff5d1ed4965b",
   "metadata": {},
   "source": [
    "This research presents a proposal for analysing and clustering territorial entities in Colombia, South America at a municipality level to comprehend their heterogeneity and homogeneity from both a non-spatial and spatial perspective.\n",
    "\n",
    "\n",
    "At a political and administrative level, Colombia is divided 33 state or department territorial entities (DANE, 2021). Each department consists of a group of adjacent municipalities. There is a total of 1.121municipal level entities, however, from which 1102 are truly considered municipalities, 1 insular and 18 continental non-municipalized territories (DANE, 2021).\n",
    "\n",
    "\n",
    "Using non-spatial and the municipality spatial structure, there are multiple possible and cohesive department clusters that might better reflect and point out relevant shared attributes from the Colombian territory. Finding new possible municipality clusters, is a high valuable asset when formulating decentralized public policy and business initiatives that aim to address this local attributes more accurately.\n"
   ]
  },
  {
   "cell_type": "markdown",
   "id": "f0e0f882-c1ce-48f2-8f15-8536fb278077",
   "metadata": {},
   "source": [
    "# Literature review"
   ]
  },
  {
   "cell_type": "markdown",
   "id": "0b02d67b-99c3-4a5c-b8b0-434a38fcb35d",
   "metadata": {},
   "source": [
    "As an initiative from the government, the Colombian National Planning Department (DNP) has conducted municipalities classification exercises related the rurality and typology. Although this research does not aim to replicate or contrast this rural and municipality typology clustering exercises, they do provide valuable references in the matter.\n",
    "\n",
    "\n",
    "In the rurality case, using population density and the proportion of rural and urban population, the municipalities were classified in the following categories (Andrés et al., 2015):\n",
    "1. Cities and agglomerations.\n",
    "2. Intermediates.\n",
    "3. Rural.\n",
    "4. Dispersed rural.\n",
    "\n",
    "\n",
    "Regarding the municipality topology (Sanchez, González and Villamil, 2015), using PCA  on 18 variable of 6 dimensions (Urban Regional (5), Living Conditions (1), Economic Development (4), Environmental (2), Institutional (2) and Security (4), the municipalities were grouped in 3 categories:\n",
    "1. Robust development.\n",
    "2. Intermediate development.\n",
    "3. Incipient development.\n",
    "\n",
    "\n",
    "Important to note that these previous references do not account for the spatial structure and connectivity as this research intents to.\n"
   ]
  },
  {
   "cell_type": "markdown",
   "id": "4630f167-3c39-44eb-929f-3a24be8dbb4d",
   "metadata": {},
   "source": [
    "# Research question"
   ]
  },
  {
   "cell_type": "markdown",
   "id": "aad5c84c-3989-43e0-9c0e-ba85bb743771",
   "metadata": {},
   "source": [
    "The aim of this research is to formulate an alternative municipality administrative division using socio-economic and geographic data.\n",
    "\n",
    "\n",
    "- How could the municipalities be alternatively clustered using socio-economic and geographic data?\n",
    "- Is there a more municipality cohesive department level division that better reflect the spatial structure and socio-economic attributes of the Colombian territory?\n",
    "\n",
    "\n",
    "Colombia is a highly diverse country from multiple perspectives. Either from a economic and social view (Sánchez and Núñez’, 2000), agricultural productive process (Gáfaro and Pellegrina, 2022) or a (uneven) geographically outlook (Duranton, 2015) cited by (Gáfaro and Pellegrina, 2022), this significant heterogeneity might come as a challenge when formulating business initiatives and public policies at regional or local level.\n",
    "\n",
    "\n",
    "By addressing the research question, this study aims to contribute to have a deeper understanding of both similarities and differences that municipalities in Colombia have, including the regional cohesion that may result from neighbouring municipalities.\n"
   ]
  },
  {
   "cell_type": "markdown",
   "id": "718e1c71-585e-4e49-a465-8684c1b95c5c",
   "metadata": {},
   "source": [
    "# Data"
   ]
  },
  {
   "cell_type": "markdown",
   "id": "6027e066-6c26-4198-b55b-8b12de03b278",
   "metadata": {},
   "source": [
    "The information sources for this research are the followings:\n",
    "\n",
    "1- Terridata: It is a compilation of multiple official data sources gathered, cured, cleaned, and structured by the National Planning Department (DNP) or Colombia. The Terridata dataset includes multiple data dimensions and indicators in a multitemporal yearly and monthly time frame for every municipality, department and at the national level.\n",
    "\n",
    "Terridata download webpage: [Terridata download web page](https://terridata.dnp.gov.co/index-app.html#/descargas)\n",
    "\n",
    "\n",
    "Terridata raw data: [Raw Terridata data](https://terridata.dnp.gov.co/assets/docs/txt/dimensiones/TerriData.txt.zip)\n",
    "\n",
    "2- Spatial data: It includes shapes of the municipality entities Colombia and the state level administrative groupings. The spatial information is generated by the National Administrative Statistics Department (DANE).\n",
    "\n",
    "DANE Spatial data:  [DANE download web page](https://geoportal.dane.gov.co/servicios/descarga-y-metadatos/descarga-mgn-marco-geoestadistico-nacional/p)\n"
   ]
  },
  {
   "cell_type": "markdown",
   "id": "1ef73e53-1130-4fc3-8c4f-a633e9b91561",
   "metadata": {
    "tags": []
   },
   "source": [
    "## Reading"
   ]
  },
  {
   "cell_type": "markdown",
   "id": "41f60c44-d2b6-4c09-8792-4decaf89c51f",
   "metadata": {},
   "source": [
    "In the next section, the spatial and non-spatial data will be read locally. In the case of the pre-processed version of the non-spatial data, this will be done later in section: **5.2.4.4. Read pre-processed data.**"
   ]
  },
  {
   "cell_type": "markdown",
   "id": "25133ad5-26a9-43c6-92e5-ed285c9f4405",
   "metadata": {
    "tags": []
   },
   "source": [
    "### Terridata"
   ]
  },
  {
   "cell_type": "code",
   "execution_count": 2,
   "id": "dbf8ba9a-ce84-4178-9ac2-5aae71659cfb",
   "metadata": {},
   "outputs": [
    {
     "name": "stdout",
     "output_type": "stream",
     "text": [
      "CPU times: user 28.1 s, sys: 2.08 s, total: 30.1 s\n",
      "Wall time: 35.7 s\n"
     ]
    }
   ],
   "source": [
    "# %%time\n",
    "# with zipfile.ZipFile('Data/Terri_data/TerriData.txt.zip', 'r') as zip_file:\n",
    "#     with zip_file.open('TerriData.txt') as file:\n",
    "#         # read the text file into a pandas dataframe\n",
    "#         raw_df = pd.read_csv(file, sep = '|', thousands='.' ,decimal=',',header = None, encoding='utf-16',dtype=({0:str,2:str, 4:'category',5:'category'}),low_memory=False)"
   ]
  },
  {
   "cell_type": "code",
   "execution_count": 3,
   "id": "48833b31-77a9-44ea-8586-617e8ed84fe1",
   "metadata": {},
   "outputs": [
    {
     "data": {
      "text/html": [
       "<div>\n",
       "<style scoped>\n",
       "    .dataframe tbody tr th:only-of-type {\n",
       "        vertical-align: middle;\n",
       "    }\n",
       "\n",
       "    .dataframe tbody tr th {\n",
       "        vertical-align: top;\n",
       "    }\n",
       "\n",
       "    .dataframe thead th {\n",
       "        text-align: right;\n",
       "    }\n",
       "</style>\n",
       "<table border=\"1\" class=\"dataframe\">\n",
       "  <thead>\n",
       "    <tr style=\"text-align: right;\">\n",
       "      <th></th>\n",
       "      <th>0</th>\n",
       "      <th>1</th>\n",
       "      <th>2</th>\n",
       "      <th>3</th>\n",
       "      <th>4</th>\n",
       "      <th>5</th>\n",
       "      <th>6</th>\n",
       "      <th>7</th>\n",
       "      <th>8</th>\n",
       "      <th>9</th>\n",
       "      <th>10</th>\n",
       "      <th>11</th>\n",
       "      <th>12</th>\n",
       "      <th>13</th>\n",
       "    </tr>\n",
       "  </thead>\n",
       "  <tbody>\n",
       "    <tr>\n",
       "      <th>0</th>\n",
       "      <td>01</td>\n",
       "      <td>Colombia</td>\n",
       "      <td>01001</td>\n",
       "      <td>Colombia</td>\n",
       "      <td>Descripción general</td>\n",
       "      <td>Descripción general</td>\n",
       "      <td>Código DANE</td>\n",
       "      <td>10010001</td>\n",
       "      <td>NaN</td>\n",
       "      <td>01</td>\n",
       "      <td>2000</td>\n",
       "      <td>0</td>\n",
       "      <td>DANE</td>\n",
       "      <td>Texto</td>\n",
       "    </tr>\n",
       "    <tr>\n",
       "      <th>1</th>\n",
       "      <td>05</td>\n",
       "      <td>Antioquia</td>\n",
       "      <td>05000</td>\n",
       "      <td>Antioquia</td>\n",
       "      <td>Descripción general</td>\n",
       "      <td>Descripción general</td>\n",
       "      <td>Código DANE</td>\n",
       "      <td>10010001</td>\n",
       "      <td>NaN</td>\n",
       "      <td>05</td>\n",
       "      <td>2000</td>\n",
       "      <td>0</td>\n",
       "      <td>DANE</td>\n",
       "      <td>Texto</td>\n",
       "    </tr>\n",
       "    <tr>\n",
       "      <th>2</th>\n",
       "      <td>05</td>\n",
       "      <td>Antioquia</td>\n",
       "      <td>05001</td>\n",
       "      <td>Medellín</td>\n",
       "      <td>Descripción general</td>\n",
       "      <td>Descripción general</td>\n",
       "      <td>Código DANE</td>\n",
       "      <td>10010001</td>\n",
       "      <td>NaN</td>\n",
       "      <td>05001</td>\n",
       "      <td>2000</td>\n",
       "      <td>0</td>\n",
       "      <td>DANE</td>\n",
       "      <td>Texto</td>\n",
       "    </tr>\n",
       "    <tr>\n",
       "      <th>3</th>\n",
       "      <td>05</td>\n",
       "      <td>Antioquia</td>\n",
       "      <td>05002</td>\n",
       "      <td>Abejorral</td>\n",
       "      <td>Descripción general</td>\n",
       "      <td>Descripción general</td>\n",
       "      <td>Código DANE</td>\n",
       "      <td>10010001</td>\n",
       "      <td>NaN</td>\n",
       "      <td>05002</td>\n",
       "      <td>2000</td>\n",
       "      <td>0</td>\n",
       "      <td>DANE</td>\n",
       "      <td>Texto</td>\n",
       "    </tr>\n",
       "    <tr>\n",
       "      <th>4</th>\n",
       "      <td>05</td>\n",
       "      <td>Antioquia</td>\n",
       "      <td>05004</td>\n",
       "      <td>Abriaquí</td>\n",
       "      <td>Descripción general</td>\n",
       "      <td>Descripción general</td>\n",
       "      <td>Código DANE</td>\n",
       "      <td>10010001</td>\n",
       "      <td>NaN</td>\n",
       "      <td>05004</td>\n",
       "      <td>2000</td>\n",
       "      <td>0</td>\n",
       "      <td>DANE</td>\n",
       "      <td>Texto</td>\n",
       "    </tr>\n",
       "  </tbody>\n",
       "</table>\n",
       "</div>"
      ],
      "text/plain": [
       "   0          1      2          3                    4                    5   \\\n",
       "0  01   Colombia  01001   Colombia  Descripción general  Descripción general   \n",
       "1  05  Antioquia  05000  Antioquia  Descripción general  Descripción general   \n",
       "2  05  Antioquia  05001   Medellín  Descripción general  Descripción general   \n",
       "3  05  Antioquia  05002  Abejorral  Descripción general  Descripción general   \n",
       "4  05  Antioquia  05004   Abriaquí  Descripción general  Descripción general   \n",
       "\n",
       "            6         7   8      9     10  11    12     13  \n",
       "0  Código DANE  10010001 NaN     01  2000   0  DANE  Texto  \n",
       "1  Código DANE  10010001 NaN     05  2000   0  DANE  Texto  \n",
       "2  Código DANE  10010001 NaN  05001  2000   0  DANE  Texto  \n",
       "3  Código DANE  10010001 NaN  05002  2000   0  DANE  Texto  \n",
       "4  Código DANE  10010001 NaN  05004  2000   0  DANE  Texto  "
      ]
     },
     "execution_count": 3,
     "metadata": {},
     "output_type": "execute_result"
    }
   ],
   "source": [
    "# # Raw data reading\n",
    "# raw_df.head()"
   ]
  },
  {
   "cell_type": "code",
   "execution_count": 4,
   "id": "dfb0bdda-7f8f-41be-82f3-55508fcd9337",
   "metadata": {},
   "outputs": [],
   "source": [
    "# # Renaming of columns\n",
    "# raw_df = raw_df.rename(columns={0: 'dep_code',\n",
    "#                         1: 'dep',\n",
    "#                         2: 'mun_code',\n",
    "#                         3: 'mun',\n",
    "#                         4: 'dim',\n",
    "#                         5: 'subcat',\n",
    "#                         6: 'indicador',\n",
    "#                         7: 'indicador_code',\n",
    "#                         8: 'num_data',\n",
    "#                         9: 'qua_data',\n",
    "#                         10: 'year',\n",
    "#                         11: 'month',\n",
    "#                         12: 'source',\n",
    "#                         13: 'units'})"
   ]
  },
  {
   "cell_type": "code",
   "execution_count": 5,
   "id": "feed45ee-9e99-4bb8-8db3-f63610e3910c",
   "metadata": {},
   "outputs": [
    {
     "data": {
      "text/html": [
       "<div>\n",
       "<style scoped>\n",
       "    .dataframe tbody tr th:only-of-type {\n",
       "        vertical-align: middle;\n",
       "    }\n",
       "\n",
       "    .dataframe tbody tr th {\n",
       "        vertical-align: top;\n",
       "    }\n",
       "\n",
       "    .dataframe thead th {\n",
       "        text-align: right;\n",
       "    }\n",
       "</style>\n",
       "<table border=\"1\" class=\"dataframe\">\n",
       "  <thead>\n",
       "    <tr style=\"text-align: right;\">\n",
       "      <th></th>\n",
       "      <th>dep_code</th>\n",
       "      <th>dep</th>\n",
       "      <th>mun_code</th>\n",
       "      <th>mun</th>\n",
       "      <th>dim</th>\n",
       "      <th>subcat</th>\n",
       "      <th>indicador</th>\n",
       "      <th>indicador_code</th>\n",
       "      <th>num_data</th>\n",
       "      <th>qua_data</th>\n",
       "      <th>year</th>\n",
       "      <th>month</th>\n",
       "      <th>source</th>\n",
       "      <th>units</th>\n",
       "    </tr>\n",
       "  </thead>\n",
       "  <tbody>\n",
       "    <tr>\n",
       "      <th>0</th>\n",
       "      <td>01</td>\n",
       "      <td>Colombia</td>\n",
       "      <td>01001</td>\n",
       "      <td>Colombia</td>\n",
       "      <td>Descripción general</td>\n",
       "      <td>Descripción general</td>\n",
       "      <td>Código DANE</td>\n",
       "      <td>10010001</td>\n",
       "      <td>NaN</td>\n",
       "      <td>01</td>\n",
       "      <td>2000</td>\n",
       "      <td>0</td>\n",
       "      <td>DANE</td>\n",
       "      <td>Texto</td>\n",
       "    </tr>\n",
       "    <tr>\n",
       "      <th>1</th>\n",
       "      <td>05</td>\n",
       "      <td>Antioquia</td>\n",
       "      <td>05000</td>\n",
       "      <td>Antioquia</td>\n",
       "      <td>Descripción general</td>\n",
       "      <td>Descripción general</td>\n",
       "      <td>Código DANE</td>\n",
       "      <td>10010001</td>\n",
       "      <td>NaN</td>\n",
       "      <td>05</td>\n",
       "      <td>2000</td>\n",
       "      <td>0</td>\n",
       "      <td>DANE</td>\n",
       "      <td>Texto</td>\n",
       "    </tr>\n",
       "    <tr>\n",
       "      <th>2</th>\n",
       "      <td>05</td>\n",
       "      <td>Antioquia</td>\n",
       "      <td>05001</td>\n",
       "      <td>Medellín</td>\n",
       "      <td>Descripción general</td>\n",
       "      <td>Descripción general</td>\n",
       "      <td>Código DANE</td>\n",
       "      <td>10010001</td>\n",
       "      <td>NaN</td>\n",
       "      <td>05001</td>\n",
       "      <td>2000</td>\n",
       "      <td>0</td>\n",
       "      <td>DANE</td>\n",
       "      <td>Texto</td>\n",
       "    </tr>\n",
       "    <tr>\n",
       "      <th>3</th>\n",
       "      <td>05</td>\n",
       "      <td>Antioquia</td>\n",
       "      <td>05002</td>\n",
       "      <td>Abejorral</td>\n",
       "      <td>Descripción general</td>\n",
       "      <td>Descripción general</td>\n",
       "      <td>Código DANE</td>\n",
       "      <td>10010001</td>\n",
       "      <td>NaN</td>\n",
       "      <td>05002</td>\n",
       "      <td>2000</td>\n",
       "      <td>0</td>\n",
       "      <td>DANE</td>\n",
       "      <td>Texto</td>\n",
       "    </tr>\n",
       "    <tr>\n",
       "      <th>4</th>\n",
       "      <td>05</td>\n",
       "      <td>Antioquia</td>\n",
       "      <td>05004</td>\n",
       "      <td>Abriaquí</td>\n",
       "      <td>Descripción general</td>\n",
       "      <td>Descripción general</td>\n",
       "      <td>Código DANE</td>\n",
       "      <td>10010001</td>\n",
       "      <td>NaN</td>\n",
       "      <td>05004</td>\n",
       "      <td>2000</td>\n",
       "      <td>0</td>\n",
       "      <td>DANE</td>\n",
       "      <td>Texto</td>\n",
       "    </tr>\n",
       "  </tbody>\n",
       "</table>\n",
       "</div>"
      ],
      "text/plain": [
       "  dep_code        dep mun_code        mun                  dim  \\\n",
       "0       01   Colombia    01001   Colombia  Descripción general   \n",
       "1       05  Antioquia    05000  Antioquia  Descripción general   \n",
       "2       05  Antioquia    05001   Medellín  Descripción general   \n",
       "3       05  Antioquia    05002  Abejorral  Descripción general   \n",
       "4       05  Antioquia    05004   Abriaquí  Descripción general   \n",
       "\n",
       "                subcat    indicador  indicador_code  num_data qua_data  year  \\\n",
       "0  Descripción general  Código DANE        10010001       NaN       01  2000   \n",
       "1  Descripción general  Código DANE        10010001       NaN       05  2000   \n",
       "2  Descripción general  Código DANE        10010001       NaN    05001  2000   \n",
       "3  Descripción general  Código DANE        10010001       NaN    05002  2000   \n",
       "4  Descripción general  Código DANE        10010001       NaN    05004  2000   \n",
       "\n",
       "   month source  units  \n",
       "0      0   DANE  Texto  \n",
       "1      0   DANE  Texto  \n",
       "2      0   DANE  Texto  \n",
       "3      0   DANE  Texto  \n",
       "4      0   DANE  Texto  "
      ]
     },
     "execution_count": 5,
     "metadata": {},
     "output_type": "execute_result"
    }
   ],
   "source": [
    "raw_df.head()"
   ]
  },
  {
   "cell_type": "code",
   "execution_count": 6,
   "id": "df05eb72-d168-48b8-afb1-7582ec5b04b1",
   "metadata": {},
   "outputs": [
    {
     "name": "stdout",
     "output_type": "stream",
     "text": [
      "<class 'pandas.core.frame.DataFrame'>\n",
      "RangeIndex: 8728507 entries, 0 to 8728506\n",
      "Data columns (total 14 columns):\n",
      " #   Column          Dtype   \n",
      "---  ------          -----   \n",
      " 0   dep_code        object  \n",
      " 1   dep             object  \n",
      " 2   mun_code        object  \n",
      " 3   mun             object  \n",
      " 4   dim             category\n",
      " 5   subcat          category\n",
      " 6   indicador       object  \n",
      " 7   indicador_code  int64   \n",
      " 8   num_data        float64 \n",
      " 9   qua_data        object  \n",
      " 10  year            int64   \n",
      " 11  month           int64   \n",
      " 12  source          object  \n",
      " 13  units           object  \n",
      "dtypes: category(2), float64(1), int64(3), object(8)\n",
      "memory usage: 815.8+ MB\n"
     ]
    }
   ],
   "source": [
    "# raw_df.info()"
   ]
  },
  {
   "cell_type": "code",
   "execution_count": 7,
   "id": "deef875a-bf80-4cc8-8dc1-eec1b9fad85a",
   "metadata": {},
   "outputs": [],
   "source": [
    "# # Creationg a control copy of the raw data\n",
    "# raw_df_control = raw_df.copy()"
   ]
  },
  {
   "cell_type": "markdown",
   "id": "dc1be3a8-9ce4-4c7b-bcce-e56764fcba44",
   "metadata": {
    "tags": []
   },
   "source": [
    "### Spatial Data"
   ]
  },
  {
   "cell_type": "code",
   "execution_count": 8,
   "id": "4fc42b9b-f199-493a-9e20-734d0a323443",
   "metadata": {},
   "outputs": [],
   "source": [
    "# Reading spatial data from local\n",
    "dep_geo = gpd.read_file('Data/Spatial/MGN2021_DPTO_POLITICO/MGN_DPTO_POLITICO.shp')\n",
    "mun_geo = gpd.read_file('Data/Spatial/MGN2021_MPIO_POLITICO/MGN_MPIO_POLITICO.shp')"
   ]
  },
  {
   "cell_type": "markdown",
   "id": "353b5d9c-cfcf-4ed4-9c36-b55c4f7ea635",
   "metadata": {},
   "source": [
    "#### Departments spatial data"
   ]
  },
  {
   "cell_type": "code",
   "execution_count": 9,
   "id": "1aa44f5f-5eb7-416b-8b37-64badc5fb9be",
   "metadata": {},
   "outputs": [
    {
     "name": "stdout",
     "output_type": "stream",
     "text": [
      "<class 'geopandas.geodataframe.GeoDataFrame'>\n",
      "RangeIndex: 33 entries, 0 to 32\n",
      "Data columns (total 10 columns):\n",
      " #   Column      Non-Null Count  Dtype   \n",
      "---  ------      --------------  -----   \n",
      " 0   DPTO_CCDGO  33 non-null     object  \n",
      " 1   DPTO_CNMBR  33 non-null     object  \n",
      " 2   DPTO_ANO_C  33 non-null     int64   \n",
      " 3   DPTO_ACT_A  33 non-null     object  \n",
      " 4   DPTO_NAREA  33 non-null     float64 \n",
      " 5   DPTO_CSMBL  33 non-null     object  \n",
      " 6   DPTO_VGNC   33 non-null     int64   \n",
      " 7   Shape_Leng  33 non-null     float64 \n",
      " 8   Shape_Area  33 non-null     float64 \n",
      " 9   geometry    33 non-null     geometry\n",
      "dtypes: float64(3), geometry(1), int64(2), object(4)\n",
      "memory usage: 2.7+ KB\n"
     ]
    }
   ],
   "source": [
    "#Reviewing data type\n",
    "dep_geo.info()"
   ]
  },
  {
   "cell_type": "code",
   "execution_count": 10,
   "id": "303c1199-97c1-456c-bbef-fa360931d73d",
   "metadata": {},
   "outputs": [
    {
     "data": {
      "text/html": [
       "<div>\n",
       "<style scoped>\n",
       "    .dataframe tbody tr th:only-of-type {\n",
       "        vertical-align: middle;\n",
       "    }\n",
       "\n",
       "    .dataframe tbody tr th {\n",
       "        vertical-align: top;\n",
       "    }\n",
       "\n",
       "    .dataframe thead th {\n",
       "        text-align: right;\n",
       "    }\n",
       "</style>\n",
       "<table border=\"1\" class=\"dataframe\">\n",
       "  <thead>\n",
       "    <tr style=\"text-align: right;\">\n",
       "      <th></th>\n",
       "      <th>DPTO_CCDGO</th>\n",
       "      <th>DPTO_CNMBR</th>\n",
       "      <th>DPTO_ANO_C</th>\n",
       "      <th>DPTO_ACT_A</th>\n",
       "      <th>DPTO_NAREA</th>\n",
       "      <th>DPTO_CSMBL</th>\n",
       "      <th>DPTO_VGNC</th>\n",
       "      <th>Shape_Leng</th>\n",
       "      <th>Shape_Area</th>\n",
       "      <th>geometry</th>\n",
       "    </tr>\n",
       "  </thead>\n",
       "  <tbody>\n",
       "    <tr>\n",
       "      <th>0</th>\n",
       "      <td>05</td>\n",
       "      <td>ANTIOQUIA</td>\n",
       "      <td>1886</td>\n",
       "      <td>Constitucion Politica de 1886</td>\n",
       "      <td>62808.629597</td>\n",
       "      <td>3</td>\n",
       "      <td>2021</td>\n",
       "      <td>21.492374</td>\n",
       "      <td>5.135236</td>\n",
       "      <td>POLYGON ((-76.41355 8.87383, -76.40465 8.85195...</td>\n",
       "    </tr>\n",
       "    <tr>\n",
       "      <th>1</th>\n",
       "      <td>08</td>\n",
       "      <td>ATLÁNTICO</td>\n",
       "      <td>1910</td>\n",
       "      <td>Ley 21 de 1910</td>\n",
       "      <td>3314.447413</td>\n",
       "      <td>3</td>\n",
       "      <td>2021</td>\n",
       "      <td>2.573162</td>\n",
       "      <td>0.273823</td>\n",
       "      <td>POLYGON ((-74.84946 11.09778, -74.84938 11.097...</td>\n",
       "    </tr>\n",
       "    <tr>\n",
       "      <th>2</th>\n",
       "      <td>11</td>\n",
       "      <td>BOGOTÁ, D.C.</td>\n",
       "      <td>1538</td>\n",
       "      <td>Constitucion Politica de 1886</td>\n",
       "      <td>1622.852967</td>\n",
       "      <td>3</td>\n",
       "      <td>2021</td>\n",
       "      <td>3.765324</td>\n",
       "      <td>0.132208</td>\n",
       "      <td>POLYGON ((-74.07059 4.82856, -74.07036 4.82856...</td>\n",
       "    </tr>\n",
       "    <tr>\n",
       "      <th>3</th>\n",
       "      <td>13</td>\n",
       "      <td>BOLÍVAR</td>\n",
       "      <td>1886</td>\n",
       "      <td>Constitucion Politica de 1886</td>\n",
       "      <td>26719.968143</td>\n",
       "      <td>3</td>\n",
       "      <td>2021</td>\n",
       "      <td>16.233072</td>\n",
       "      <td>2.195639</td>\n",
       "      <td>MULTIPOLYGON (((-76.17318 9.38785, -76.17287 9...</td>\n",
       "    </tr>\n",
       "    <tr>\n",
       "      <th>4</th>\n",
       "      <td>15</td>\n",
       "      <td>BOYACÁ</td>\n",
       "      <td>1886</td>\n",
       "      <td>Constitucion Politica de 1886</td>\n",
       "      <td>23138.048132</td>\n",
       "      <td>3</td>\n",
       "      <td>2021</td>\n",
       "      <td>15.906491</td>\n",
       "      <td>1.888391</td>\n",
       "      <td>POLYGON ((-72.17368 7.05308, -72.17277 7.05224...</td>\n",
       "    </tr>\n",
       "  </tbody>\n",
       "</table>\n",
       "</div>"
      ],
      "text/plain": [
       "  DPTO_CCDGO    DPTO_CNMBR  DPTO_ANO_C                     DPTO_ACT_A  \\\n",
       "0         05     ANTIOQUIA        1886  Constitucion Politica de 1886   \n",
       "1         08     ATLÁNTICO        1910                 Ley 21 de 1910   \n",
       "2         11  BOGOTÁ, D.C.        1538  Constitucion Politica de 1886   \n",
       "3         13       BOLÍVAR        1886  Constitucion Politica de 1886   \n",
       "4         15        BOYACÁ        1886  Constitucion Politica de 1886   \n",
       "\n",
       "     DPTO_NAREA DPTO_CSMBL  DPTO_VGNC  Shape_Leng  Shape_Area  \\\n",
       "0  62808.629597          3       2021   21.492374    5.135236   \n",
       "1   3314.447413          3       2021    2.573162    0.273823   \n",
       "2   1622.852967          3       2021    3.765324    0.132208   \n",
       "3  26719.968143          3       2021   16.233072    2.195639   \n",
       "4  23138.048132          3       2021   15.906491    1.888391   \n",
       "\n",
       "                                            geometry  \n",
       "0  POLYGON ((-76.41355 8.87383, -76.40465 8.85195...  \n",
       "1  POLYGON ((-74.84946 11.09778, -74.84938 11.097...  \n",
       "2  POLYGON ((-74.07059 4.82856, -74.07036 4.82856...  \n",
       "3  MULTIPOLYGON (((-76.17318 9.38785, -76.17287 9...  \n",
       "4  POLYGON ((-72.17368 7.05308, -72.17277 7.05224...  "
      ]
     },
     "execution_count": 10,
     "metadata": {},
     "output_type": "execute_result"
    }
   ],
   "source": [
    "# Preview\n",
    "dep_geo.head()"
   ]
  },
  {
   "cell_type": "code",
   "execution_count": 11,
   "id": "d8daa09b-d2c6-4821-a1f2-bf6379ee02e5",
   "metadata": {},
   "outputs": [
    {
     "data": {
      "text/plain": [
       "<AxesSubplot:>"
      ]
     },
     "execution_count": 11,
     "metadata": {},
     "output_type": "execute_result"
    },
    {
     "data": {
      "image/png": "[encoded data removed]",
      "text/plain": [
       "<Figure size 432x288 with 1 Axes>"
      ]
     },
     "metadata": {
      "needs_background": "light"
     },
     "output_type": "display_data"
    }
   ],
   "source": [
    "# Geometry\n",
    "dep_geo.plot() "
   ]
  },
  {
   "cell_type": "markdown",
   "id": "e692db36-8063-4cc3-9337-3cfa808a66d6",
   "metadata": {},
   "source": [
    "#### Municipalities spatial data"
   ]
  },
  {
   "cell_type": "code",
   "execution_count": 12,
   "id": "9df0108e-db2b-495f-8d63-17dea3c07f3c",
   "metadata": {},
   "outputs": [
    {
     "name": "stdout",
     "output_type": "stream",
     "text": [
      "<class 'geopandas.geodataframe.GeoDataFrame'>\n",
      "RangeIndex: 1121 entries, 0 to 1120\n",
      "Data columns (total 13 columns):\n",
      " #   Column      Non-Null Count  Dtype   \n",
      "---  ------      --------------  -----   \n",
      " 0   DPTO_CCDGO  1121 non-null   object  \n",
      " 1   MPIO_CCDGO  1121 non-null   object  \n",
      " 2   MPIO_CDPMP  1121 non-null   object  \n",
      " 3   DPTO_CNMBR  1121 non-null   object  \n",
      " 4   MPIO_CNMBR  1121 non-null   object  \n",
      " 5   MPIO_CRSLC  1121 non-null   object  \n",
      " 6   MPIO_NAREA  1121 non-null   float64 \n",
      " 7   MPIO_CSMBL  1121 non-null   object  \n",
      " 8   MPIO_VGNC   1121 non-null   int64   \n",
      " 9   MPIO_TIPO   1121 non-null   object  \n",
      " 10  Shape_Leng  1121 non-null   float64 \n",
      " 11  Shape_Area  1121 non-null   float64 \n",
      " 12  geometry    1121 non-null   geometry\n",
      "dtypes: float64(3), geometry(1), int64(1), object(8)\n",
      "memory usage: 114.0+ KB\n"
     ]
    }
   ],
   "source": [
    "#Reviewing data type\n",
    "mun_geo.info()"
   ]
  },
  {
   "cell_type": "code",
   "execution_count": 13,
   "id": "46589a71-00dc-4d23-b195-b47b946c2fc4",
   "metadata": {},
   "outputs": [
    {
     "data": {
      "text/html": [
       "<div>\n",
       "<style scoped>\n",
       "    .dataframe tbody tr th:only-of-type {\n",
       "        vertical-align: middle;\n",
       "    }\n",
       "\n",
       "    .dataframe tbody tr th {\n",
       "        vertical-align: top;\n",
       "    }\n",
       "\n",
       "    .dataframe thead th {\n",
       "        text-align: right;\n",
       "    }\n",
       "</style>\n",
       "<table border=\"1\" class=\"dataframe\">\n",
       "  <thead>\n",
       "    <tr style=\"text-align: right;\">\n",
       "      <th></th>\n",
       "      <th>DPTO_CCDGO</th>\n",
       "      <th>MPIO_CCDGO</th>\n",
       "      <th>MPIO_CDPMP</th>\n",
       "      <th>DPTO_CNMBR</th>\n",
       "      <th>MPIO_CNMBR</th>\n",
       "      <th>MPIO_CRSLC</th>\n",
       "      <th>MPIO_NAREA</th>\n",
       "      <th>MPIO_CSMBL</th>\n",
       "      <th>MPIO_VGNC</th>\n",
       "      <th>MPIO_TIPO</th>\n",
       "      <th>Shape_Leng</th>\n",
       "      <th>Shape_Area</th>\n",
       "      <th>geometry</th>\n",
       "    </tr>\n",
       "  </thead>\n",
       "  <tbody>\n",
       "    <tr>\n",
       "      <th>0</th>\n",
       "      <td>05</td>\n",
       "      <td>001</td>\n",
       "      <td>05001</td>\n",
       "      <td>ANTIOQUIA</td>\n",
       "      <td>MEDELLÍN</td>\n",
       "      <td>1965</td>\n",
       "      <td>374.812877</td>\n",
       "      <td>4</td>\n",
       "      <td>2021</td>\n",
       "      <td>MUNICIPIO</td>\n",
       "      <td>1.032546</td>\n",
       "      <td>0.030606</td>\n",
       "      <td>POLYGON ((-75.66974 6.37360, -75.66965 6.37360...</td>\n",
       "    </tr>\n",
       "    <tr>\n",
       "      <th>1</th>\n",
       "      <td>05</td>\n",
       "      <td>002</td>\n",
       "      <td>05002</td>\n",
       "      <td>ANTIOQUIA</td>\n",
       "      <td>ABEJORRAL</td>\n",
       "      <td>1814</td>\n",
       "      <td>507.141095</td>\n",
       "      <td>4</td>\n",
       "      <td>2021</td>\n",
       "      <td>MUNICIPIO</td>\n",
       "      <td>1.158504</td>\n",
       "      <td>0.041384</td>\n",
       "      <td>POLYGON ((-75.46938 5.94575, -75.46897 5.94571...</td>\n",
       "    </tr>\n",
       "    <tr>\n",
       "      <th>2</th>\n",
       "      <td>05</td>\n",
       "      <td>004</td>\n",
       "      <td>05004</td>\n",
       "      <td>ANTIOQUIA</td>\n",
       "      <td>ABRIAQUÍ</td>\n",
       "      <td>1912</td>\n",
       "      <td>296.894050</td>\n",
       "      <td>4</td>\n",
       "      <td>2021</td>\n",
       "      <td>MUNICIPIO</td>\n",
       "      <td>0.812183</td>\n",
       "      <td>0.024248</td>\n",
       "      <td>POLYGON ((-76.08351 6.75050, -76.08325 6.75048...</td>\n",
       "    </tr>\n",
       "    <tr>\n",
       "      <th>3</th>\n",
       "      <td>05</td>\n",
       "      <td>021</td>\n",
       "      <td>05021</td>\n",
       "      <td>ANTIOQUIA</td>\n",
       "      <td>ALEJANDRÍA</td>\n",
       "      <td>Decreto departamental 304 de 1907</td>\n",
       "      <td>128.932153</td>\n",
       "      <td>4</td>\n",
       "      <td>2021</td>\n",
       "      <td>MUNICIPIO</td>\n",
       "      <td>0.705200</td>\n",
       "      <td>0.010535</td>\n",
       "      <td>POLYGON ((-75.03320 6.41586, -75.03313 6.41585...</td>\n",
       "    </tr>\n",
       "    <tr>\n",
       "      <th>4</th>\n",
       "      <td>05</td>\n",
       "      <td>030</td>\n",
       "      <td>05030</td>\n",
       "      <td>ANTIOQUIA</td>\n",
       "      <td>AMAGÁ</td>\n",
       "      <td>1912</td>\n",
       "      <td>84.132675</td>\n",
       "      <td>4</td>\n",
       "      <td>2021</td>\n",
       "      <td>MUNICIPIO</td>\n",
       "      <td>0.445241</td>\n",
       "      <td>0.006867</td>\n",
       "      <td>POLYGON ((-75.67587 6.08561, -75.67540 6.08491...</td>\n",
       "    </tr>\n",
       "  </tbody>\n",
       "</table>\n",
       "</div>"
      ],
      "text/plain": [
       "  DPTO_CCDGO MPIO_CCDGO MPIO_CDPMP DPTO_CNMBR  MPIO_CNMBR  \\\n",
       "0         05        001      05001  ANTIOQUIA    MEDELLÍN   \n",
       "1         05        002      05002  ANTIOQUIA   ABEJORRAL   \n",
       "2         05        004      05004  ANTIOQUIA    ABRIAQUÍ   \n",
       "3         05        021      05021  ANTIOQUIA  ALEJANDRÍA   \n",
       "4         05        030      05030  ANTIOQUIA       AMAGÁ   \n",
       "\n",
       "                          MPIO_CRSLC  MPIO_NAREA MPIO_CSMBL  MPIO_VGNC  \\\n",
       "0                               1965  374.812877          4       2021   \n",
       "1                               1814  507.141095          4       2021   \n",
       "2                               1912  296.894050          4       2021   \n",
       "3  Decreto departamental 304 de 1907  128.932153          4       2021   \n",
       "4                               1912   84.132675          4       2021   \n",
       "\n",
       "   MPIO_TIPO  Shape_Leng  Shape_Area  \\\n",
       "0  MUNICIPIO    1.032546    0.030606   \n",
       "1  MUNICIPIO    1.158504    0.041384   \n",
       "2  MUNICIPIO    0.812183    0.024248   \n",
       "3  MUNICIPIO    0.705200    0.010535   \n",
       "4  MUNICIPIO    0.445241    0.006867   \n",
       "\n",
       "                                            geometry  \n",
       "0  POLYGON ((-75.66974 6.37360, -75.66965 6.37360...  \n",
       "1  POLYGON ((-75.46938 5.94575, -75.46897 5.94571...  \n",
       "2  POLYGON ((-76.08351 6.75050, -76.08325 6.75048...  \n",
       "3  POLYGON ((-75.03320 6.41586, -75.03313 6.41585...  \n",
       "4  POLYGON ((-75.67587 6.08561, -75.67540 6.08491...  "
      ]
     },
     "execution_count": 13,
     "metadata": {},
     "output_type": "execute_result"
    }
   ],
   "source": [
    "# Preview\n",
    "mun_geo.head() "
   ]
  },
  {
   "cell_type": "code",
   "execution_count": 14,
   "id": "36b9ac28-18a2-49e4-aca8-bd9035f7326c",
   "metadata": {},
   "outputs": [
    {
     "data": {
      "text/plain": [
       "<AxesSubplot:>"
      ]
     },
     "execution_count": 14,
     "metadata": {},
     "output_type": "execute_result"
    },
    {
     "data": {
      "image/png": "[encoded data removed]",
      "text/plain": [
       "<Figure size 432x288 with 1 Axes>"
      ]
     },
     "metadata": {
      "needs_background": "light"
     },
     "output_type": "display_data"
    }
   ],
   "source": [
    "# Geometry\n",
    "mun_geo.plot() "
   ]
  },
  {
   "cell_type": "markdown",
   "id": "6f26bb5f-dd7c-4950-a0e7-754c7fbca38f",
   "metadata": {},
   "source": [
    "##### Types of municipalities"
   ]
  },
  {
   "cell_type": "code",
   "execution_count": 15,
   "id": "7f976141-2521-4292-b7be-df5f1fe1c326",
   "metadata": {},
   "outputs": [
    {
     "data": {
      "text/html": [
       "<div>\n",
       "<style scoped>\n",
       "    .dataframe tbody tr th:only-of-type {\n",
       "        vertical-align: middle;\n",
       "    }\n",
       "\n",
       "    .dataframe tbody tr th {\n",
       "        vertical-align: top;\n",
       "    }\n",
       "\n",
       "    .dataframe thead th {\n",
       "        text-align: right;\n",
       "    }\n",
       "</style>\n",
       "<table border=\"1\" class=\"dataframe\">\n",
       "  <thead>\n",
       "    <tr style=\"text-align: right;\">\n",
       "      <th></th>\n",
       "      <th>MPIO_CDPMP</th>\n",
       "    </tr>\n",
       "    <tr>\n",
       "      <th>MPIO_TIPO</th>\n",
       "      <th></th>\n",
       "    </tr>\n",
       "  </thead>\n",
       "  <tbody>\n",
       "    <tr>\n",
       "      <th>ISLA</th>\n",
       "      <td>1</td>\n",
       "    </tr>\n",
       "    <tr>\n",
       "      <th>MUNICIPIO</th>\n",
       "      <td>1102</td>\n",
       "    </tr>\n",
       "    <tr>\n",
       "      <th>ÁREA NO MUNICIPALIZADA</th>\n",
       "      <td>18</td>\n",
       "    </tr>\n",
       "  </tbody>\n",
       "</table>\n",
       "</div>"
      ],
      "text/plain": [
       "                        MPIO_CDPMP\n",
       "MPIO_TIPO                         \n",
       "ISLA                             1\n",
       "MUNICIPIO                     1102\n",
       "ÁREA NO MUNICIPALIZADA          18"
      ]
     },
     "execution_count": 15,
     "metadata": {},
     "output_type": "execute_result"
    }
   ],
   "source": [
    "# Types of municipality level entities\n",
    "mun_geo[['MPIO_TIPO','MPIO_CDPMP']].groupby('MPIO_TIPO').count()"
   ]
  },
  {
   "cell_type": "code",
   "execution_count": 16,
   "id": "ba62b96d-d5ad-446f-9e1d-0456db4ad8e4",
   "metadata": {},
   "outputs": [
    {
     "data": {
      "text/html": [
       "<div>\n",
       "<style scoped>\n",
       "    .dataframe tbody tr th:only-of-type {\n",
       "        vertical-align: middle;\n",
       "    }\n",
       "\n",
       "    .dataframe tbody tr th {\n",
       "        vertical-align: top;\n",
       "    }\n",
       "\n",
       "    .dataframe thead th {\n",
       "        text-align: right;\n",
       "    }\n",
       "</style>\n",
       "<table border=\"1\" class=\"dataframe\">\n",
       "  <thead>\n",
       "    <tr style=\"text-align: right;\">\n",
       "      <th></th>\n",
       "      <th>DPTO_CCDGO</th>\n",
       "      <th>MPIO_CCDGO</th>\n",
       "      <th>MPIO_CDPMP</th>\n",
       "      <th>DPTO_CNMBR</th>\n",
       "      <th>MPIO_CNMBR</th>\n",
       "      <th>MPIO_CRSLC</th>\n",
       "      <th>MPIO_NAREA</th>\n",
       "      <th>MPIO_CSMBL</th>\n",
       "      <th>MPIO_VGNC</th>\n",
       "      <th>MPIO_TIPO</th>\n",
       "      <th>Shape_Leng</th>\n",
       "      <th>Shape_Area</th>\n",
       "      <th>geometry</th>\n",
       "    </tr>\n",
       "  </thead>\n",
       "  <tbody>\n",
       "    <tr>\n",
       "      <th>1087</th>\n",
       "      <td>88</td>\n",
       "      <td>001</td>\n",
       "      <td>88001</td>\n",
       "      <td>ARCHIPIÉLAGO DE SAN ANDRÉS, PROVIDENCIA Y SANT...</td>\n",
       "      <td>SAN ANDRÉS</td>\n",
       "      <td>Const. política. Art. 309 del 4 de Julio de 1991</td>\n",
       "      <td>27.168346</td>\n",
       "      <td>4</td>\n",
       "      <td>2021</td>\n",
       "      <td>ISLA</td>\n",
       "      <td>0.386451</td>\n",
       "      <td>0.002221</td>\n",
       "      <td>MULTIPOLYGON (((-81.68843 12.54957, -81.68845 ...</td>\n",
       "    </tr>\n",
       "  </tbody>\n",
       "</table>\n",
       "</div>"
      ],
      "text/plain": [
       "     DPTO_CCDGO MPIO_CCDGO MPIO_CDPMP  \\\n",
       "1087         88        001      88001   \n",
       "\n",
       "                                             DPTO_CNMBR  MPIO_CNMBR  \\\n",
       "1087  ARCHIPIÉLAGO DE SAN ANDRÉS, PROVIDENCIA Y SANT...  SAN ANDRÉS   \n",
       "\n",
       "                                            MPIO_CRSLC  MPIO_NAREA MPIO_CSMBL  \\\n",
       "1087  Const. política. Art. 309 del 4 de Julio de 1991   27.168346          4   \n",
       "\n",
       "      MPIO_VGNC MPIO_TIPO  Shape_Leng  Shape_Area  \\\n",
       "1087       2021      ISLA    0.386451    0.002221   \n",
       "\n",
       "                                               geometry  \n",
       "1087  MULTIPOLYGON (((-81.68843 12.54957, -81.68845 ...  "
      ]
     },
     "execution_count": 16,
     "metadata": {},
     "output_type": "execute_result"
    }
   ],
   "source": [
    "mun_geo[mun_geo['MPIO_TIPO']=='ISLA']"
   ]
  },
  {
   "cell_type": "markdown",
   "id": "66bbf625-668b-42a7-8aab-1978b5c656e5",
   "metadata": {},
   "source": [
    "As mentioned before, from the 1121 municipality level entities, 1102 are legally considered municipalities. There are 18 non-municipalized are that will be kept in the analysis, in contrast to the San Andres Island that will be dropped later in the pre-processing sections."
   ]
  },
  {
   "cell_type": "markdown",
   "id": "2c87aeaa-cd96-4997-b10f-a931b23772cf",
   "metadata": {
    "tags": []
   },
   "source": [
    "## Preprocesing"
   ]
  },
  {
   "cell_type": "markdown",
   "id": "5f598b12-85bb-4756-ac50-2da5a9082704",
   "metadata": {
    "tags": []
   },
   "source": [
    "### Terridata"
   ]
  },
  {
   "cell_type": "markdown",
   "id": "c677fb9e-bbe2-4e6a-97e4-e3eef7a7ed51",
   "metadata": {
    "tags": []
   },
   "source": [
    "#### Deleting national data"
   ]
  },
  {
   "cell_type": "code",
   "execution_count": null,
   "id": "3f708a2e-c955-4e30-8c7b-ae4b6e2e2665",
   "metadata": {},
   "outputs": [],
   "source": []
  },
  {
   "cell_type": "code",
   "execution_count": 17,
   "id": "378d92b9-0e90-4dc9-b874-f75d15375b3b",
   "metadata": {},
   "outputs": [],
   "source": [
    "# #Erasing the total national values\n",
    "# raw_df = raw_df[raw_df.mun_code != '01001']"
   ]
  },
  {
   "cell_type": "markdown",
   "id": "06fee02c-4979-4917-b234-15fc66799a49",
   "metadata": {
    "tags": []
   },
   "source": [
    "#### Deleting state data"
   ]
  },
  {
   "cell_type": "code",
   "execution_count": 18,
   "id": "102d8ac1-b178-4c55-8502-7d4e0f52121c",
   "metadata": {},
   "outputs": [],
   "source": [
    "# # Deleting state data\n",
    "# raw_df = raw_df[~raw_df['mun_code'].str.endswith('000',na=True)]"
   ]
  },
  {
   "cell_type": "code",
   "execution_count": 19,
   "id": "5a45681e-6b06-481f-8ad5-0bad107a6103",
   "metadata": {},
   "outputs": [],
   "source": [
    "# # Number of codes erased\n",
    "# print('Number of municipality codes erased')\n",
    "# len(raw_df_control['mun_code'].unique()) - len(raw_df['mun_code'].unique())"
   ]
  },
  {
   "cell_type": "code",
   "execution_count": 20,
   "id": "fd641600-6be9-48a9-92b1-46cc9cca0d86",
   "metadata": {},
   "outputs": [],
   "source": [
    "# # Number of codes remaining\n",
    "# print('Number of municipality codes remaning')\n",
    "# len(raw_df['mun_code'].unique())"
   ]
  },
  {
   "cell_type": "markdown",
   "id": "99ec8e8b-9d3e-44f8-9efa-2e4bae70907b",
   "metadata": {
    "tags": []
   },
   "source": [
    "#### Data availability over time"
   ]
  },
  {
   "cell_type": "markdown",
   "id": "be3c554e-ac22-4fa2-a0d3-c7863f1df792",
   "metadata": {},
   "source": [
    "As part of the exploratory data analysis, the time frame of the research and the variables of interest most be selected based on the data available. "
   ]
  },
  {
   "cell_type": "code",
   "execution_count": 21,
   "id": "e77fd4d7-aac3-4f71-89e0-7c6648023b38",
   "metadata": {},
   "outputs": [],
   "source": [
    "# # Pivot table with dimentions and subcategories on the rows, years on the columns and municipalities count as aggregations method\n",
    "# raw_df_dim = raw_df[(raw_df.num_data.notna())].pivot_table(index='year', values='num_data', aggfunc='count',columns='dim')"
   ]
  },
  {
   "cell_type": "code",
   "execution_count": 22,
   "id": "c58f88f5-ddf1-4c86-a853-02d6e2e88a02",
   "metadata": {},
   "outputs": [],
   "source": [
    "# raw_df_dim.head()"
   ]
  },
  {
   "cell_type": "markdown",
   "id": "442e62b9-ab16-422c-8b1c-b27a60604b52",
   "metadata": {},
   "source": [
    "Next, the columns headings are translated from Spanish to English."
   ]
  },
  {
   "cell_type": "code",
   "execution_count": 23,
   "id": "ad79fa4d-988f-4e20-be7e-e1f59d224910",
   "metadata": {},
   "outputs": [],
   "source": [
    "# # Translation of spanish dimensions to english\n",
    "# english = ['Environmental',\n",
    "#  '2005 Census and Dane projections',\n",
    "#  'Council and citizen security',\n",
    "#  'Demography and population',\n",
    "#  'General description',\n",
    "#  'Economy',\n",
    "#  'Education',\n",
    "#  'Public finances',\n",
    "#  'Justice and law',\n",
    "#  'Departmental performance measurement',\n",
    "#  'Municipal performance measurement',\n",
    "#  'Working market',\n",
    "#  'Territorial planning',\n",
    "#  'Poverty',\n",
    "#  'General budget of the Nation',\n",
    "#  'Health',\n",
    "#  'Integral maritime and fluvial security',\n",
    "#  'Housing and access to public services']"
   ]
  },
  {
   "cell_type": "code",
   "execution_count": 24,
   "id": "8e8072f5-7f35-43d3-b4c9-fd43f1ea04d2",
   "metadata": {},
   "outputs": [],
   "source": [
    "sns.set_theme()"
   ]
  },
  {
   "cell_type": "code",
   "execution_count": 24,
   "id": "db3a553d-ff38-425d-ae95-3c3d7281affc",
   "metadata": {},
   "outputs": [
    {
     "data": {
      "image/png": "[encoded data removed]",
      "text/plain": [
       "<Figure size 432x288 with 1 Axes>"
      ]
     },
     "metadata": {},
     "output_type": "display_data"
    }
   ],
   "source": [
    "# sns.lineplot(data=raw_df_dim, palette=\"tab10\", linewidth=2.5)\n",
    "# plt.suptitle(\"Terridata - Data gathered\",y=1.015)\n",
    "# plt.title(\"By Dimension\")\n",
    "# plt.xlabel(\"Year\")\n",
    "# plt.ylabel(\"Number of entries\")\n",
    "# plt.legend(labels=english)\n",
    "# plt.legend(bbox_to_anchor=(2, 0.5),loc='center right',title='Dimension',labels=english)\n",
    "# sns.set(rc={'figure.figsize':(6,4)})\n",
    "# plt.savefig('EDA_Plot_Dim_Year.jpg',dpi=100,bbox_inches='tight')"
   ]
  },
  {
   "cell_type": "code",
   "execution_count": 25,
   "id": "27252a37-171d-4916-8b34-2c0e3ab97041",
   "metadata": {},
   "outputs": [
    {
     "data": {
      "text/html": [
       "<img src=\"EDA_Plot_Dim_Year.jpg\" width=\"1000\" height=\"200\"/>"
      ],
      "text/plain": [
       "<IPython.core.display.Image object>"
      ]
     },
     "execution_count": 25,
     "metadata": {},
     "output_type": "execute_result"
    }
   ],
   "source": [
    "Image(url= \"EDA_Plot_Dim_Year.jpg\", width=1000, height=200)"
   ]
  },
  {
   "cell_type": "markdown",
   "id": "d210ac72-4948-43a6-91de-cc221f413271",
   "metadata": {
    "tags": []
   },
   "source": [
    "#### Reshape data structure"
   ]
  },
  {
   "cell_type": "code",
   "execution_count": null,
   "id": "39e9d015-f4ef-4ce5-a626-f5fbb0f1f484",
   "metadata": {},
   "outputs": [],
   "source": [
    "# # Description of the data\n",
    "# raw_df.info()"
   ]
  },
  {
   "cell_type": "code",
   "execution_count": null,
   "id": "0dc5baf7-bf25-4c6e-854c-f98c67ee276a",
   "metadata": {},
   "outputs": [],
   "source": [
    "# #Filtering december and only numerical data\n",
    "# raw_df_total = raw_df[(raw_df.month==12) & (raw_df.num_data.notna())]"
   ]
  },
  {
   "cell_type": "code",
   "execution_count": null,
   "id": "3a147152-ffa1-4487-9e6e-1309055eaf1e",
   "metadata": {},
   "outputs": [],
   "source": [
    "# raw_df_total_wide = raw_df_total.pivot(index='mun_code', columns=['dim','subcat','indicador','year'], values='num_data')"
   ]
  },
  {
   "cell_type": "code",
   "execution_count": null,
   "id": "6def741d-f0b6-46b3-a1d5-a942fbb4e7e3",
   "metadata": {},
   "outputs": [],
   "source": [
    "# raw_df_total_wide.head()"
   ]
  },
  {
   "cell_type": "markdown",
   "id": "f3d4102a-579f-42bb-844f-5ecb97c0ff58",
   "metadata": {},
   "source": [
    "### Spatial data"
   ]
  },
  {
   "cell_type": "markdown",
   "id": "25b1a341-7188-44eb-ba3d-b3244436f805",
   "metadata": {},
   "source": [
    "#### Departments"
   ]
  },
  {
   "cell_type": "code",
   "execution_count": null,
   "id": "e87efbeb-a311-428c-aae7-ae6c5d073e22",
   "metadata": {},
   "outputs": [],
   "source": [
    "dep_geo.info() "
   ]
  },
  {
   "cell_type": "code",
   "execution_count": null,
   "id": "a2776909-1082-462e-bcb3-48e064b5cc84",
   "metadata": {},
   "outputs": [],
   "source": [
    "dep_geo.crs"
   ]
  },
  {
   "cell_type": "code",
   "execution_count": null,
   "id": "e04f2998-cde3-459e-a19e-7005224585ae",
   "metadata": {},
   "outputs": [],
   "source": [
    "dep_geo = dep_geo.to_crs(21897)\n",
    "dep_geo.crs"
   ]
  },
  {
   "cell_type": "markdown",
   "id": "85e76a9b-400b-4664-a3b6-912727946b91",
   "metadata": {},
   "source": [
    "#### Municipalities"
   ]
  },
  {
   "cell_type": "code",
   "execution_count": null,
   "id": "d11028d2-7966-429a-8363-8c9e9d61ca89",
   "metadata": {},
   "outputs": [],
   "source": [
    "mun_geo.info() "
   ]
  },
  {
   "cell_type": "code",
   "execution_count": null,
   "id": "601b2d81-98e6-43d3-a227-755dbed661f8",
   "metadata": {},
   "outputs": [],
   "source": [
    "mun_geo.crs"
   ]
  },
  {
   "cell_type": "code",
   "execution_count": null,
   "id": "44d4b458-6c68-40fc-9c53-4bf8f5345566",
   "metadata": {},
   "outputs": [],
   "source": [
    "mun_geo = mun_geo.to_crs(21897)\n",
    "mun_geo.crs"
   ]
  },
  {
   "cell_type": "code",
   "execution_count": null,
   "id": "a476bc43-ef80-411d-b1ce-96e2fe244597",
   "metadata": {},
   "outputs": [],
   "source": [
    "# Calculating centroids from mun"
   ]
  },
  {
   "cell_type": "code",
   "execution_count": null,
   "id": "eaa1d2f1-be5a-4707-b9ac-98289817df30",
   "metadata": {},
   "outputs": [],
   "source": [
    "mun_geo['centroid'] = mun_geo.centroid\n",
    "mun_geo['cen_lon'] = mun_geo.centroid.apply(lambda p: p.x)\n",
    "mun_geo['cen_lat'] = mun_geo.centroid.apply(lambda p: p.y)"
   ]
  },
  {
   "cell_type": "code",
   "execution_count": null,
   "id": "c56ab9fb-bbef-4165-9817-a2b4da191442",
   "metadata": {},
   "outputs": [],
   "source": [
    "mun_geo.head()"
   ]
  },
  {
   "cell_type": "code",
   "execution_count": null,
   "id": "5a22bd88-66bf-40ca-91aa-b4f66b60dd09",
   "metadata": {},
   "outputs": [],
   "source": [
    "# non spatial consistent with spatial data\n",
    "mun_geo['MPIO_TIPO'].value_counts()"
   ]
  },
  {
   "cell_type": "markdown",
   "id": "83f6f71e-20db-44f2-af99-6098fa70588a",
   "metadata": {
    "tags": []
   },
   "source": [
    "### Standardisation"
   ]
  },
  {
   "cell_type": "markdown",
   "id": "f74d277c-d5ae-4873-9239-601a1da166c2",
   "metadata": {},
   "source": [
    "#### Terridata"
   ]
  },
  {
   "cell_type": "code",
   "execution_count": null,
   "id": "ffe2ac79-792f-4d5c-9e8f-4c50f84807a3",
   "metadata": {},
   "outputs": [],
   "source": [
    "scaler = MinMaxScaler()"
   ]
  },
  {
   "cell_type": "code",
   "execution_count": null,
   "id": "ef648a40-4b9b-4235-aee8-8e54bcb7068c",
   "metadata": {},
   "outputs": [],
   "source": [
    "#raw_df_total_wide.head()"
   ]
  },
  {
   "cell_type": "code",
   "execution_count": null,
   "id": "bd7a1a07-a5b9-4837-9e0f-ea9c0d89c124",
   "metadata": {},
   "outputs": [],
   "source": [
    "#raw_df_total_wide[('Descripción general','Descripción general','Población total',2022)].max()"
   ]
  },
  {
   "cell_type": "code",
   "execution_count": null,
   "id": "6373bf0c-4d47-4883-b79b-df22d111df1a",
   "metadata": {},
   "outputs": [],
   "source": [
    "# raw_df_total_wide_stan = pd.DataFrame(scaler.fit_transform(raw_df_total_wide.values), columns=raw_df_total_wide.columns, index=raw_df_total_wide.index)"
   ]
  },
  {
   "cell_type": "code",
   "execution_count": null,
   "id": "388b3766-e15d-498e-a43b-75491dcc1d48",
   "metadata": {},
   "outputs": [],
   "source": [
    "# raw_df_total_wide_stan"
   ]
  },
  {
   "cell_type": "markdown",
   "id": "ce7956ca-cd76-4e27-bec3-d61805b7919c",
   "metadata": {},
   "source": [
    "#### Spatial data"
   ]
  },
  {
   "cell_type": "markdown",
   "id": "70006fcf-e41a-4d21-a09f-5065f9aa16dd",
   "metadata": {},
   "source": [
    "Only the coordinates and area."
   ]
  },
  {
   "cell_type": "code",
   "execution_count": null,
   "id": "650cbf55-10d3-4cf4-a349-f414a3ece630",
   "metadata": {},
   "outputs": [],
   "source": [
    "cols_to_scale = ['cen_lon','cen_lat','MPIO_NAREA']\n",
    "cols_scaled = ['cen_lon_stan','cen_lat_stan','Area']\n",
    "scaler.fit(mun_geo[cols_to_scale])\n",
    "mun_geo[cols_scaled] = scaler.transform(mun_geo[cols_to_scale])"
   ]
  },
  {
   "cell_type": "markdown",
   "id": "a1224917-dedf-4d5a-a7df-3d2d505c0993",
   "metadata": {},
   "source": [
    "**Inclusion of area**"
   ]
  },
  {
   "cell_type": "code",
   "execution_count": null,
   "id": "febfe2c1-de9d-40fe-9c71-75836e1e9550",
   "metadata": {},
   "outputs": [],
   "source": [
    "mun_geo.head()"
   ]
  },
  {
   "cell_type": "markdown",
   "id": "f2d4e601-8e6b-40c6-b8bf-db4ba1183165",
   "metadata": {
    "tags": []
   },
   "source": [
    "### Varliable selection"
   ]
  },
  {
   "cell_type": "code",
   "execution_count": null,
   "id": "d412a1d1-5893-4629-8b54-6db8da56e890",
   "metadata": {},
   "outputs": [],
   "source": [
    "# sub = [('Descripción general','Descripción general','Población total',2022),\n",
    "#        ('Descripción general','Descripción general','Densidad poblacional',2022),\n",
    "#        ('Demografía y población','Población desagregada por área','Población rural',2022),\n",
    "#        ('Economía','Valor agregado municipal','Valor agregado per cápita',2020),\n",
    "#        ('Economía','Valor agregado municipal','Valor agregado',2020)]\n",
    "\n",
    "# # Not finding\n",
    "# #('Mercado laboral','Ocupación formal','Porcentaje de personas ocupadas formalmente con respecto a la población total',2016)\n",
    "\n",
    "# raw_df_total_wide_stan_sub = raw_df_total_wide_stan[sub]\n",
    "# raw_df_total_wide_stan_sub"
   ]
  },
  {
   "cell_type": "markdown",
   "id": "e83610ad-a6b4-42b3-9be2-e297f83de8e8",
   "metadata": {},
   "source": [
    "#### Inspecting"
   ]
  },
  {
   "cell_type": "markdown",
   "id": "052d884f-6a58-4e39-b137-0dfcf6fc5ea0",
   "metadata": {},
   "source": [
    "##### NA values"
   ]
  },
  {
   "cell_type": "markdown",
   "id": "72164d04-efa7-4dbd-a77c-f627aa2d1da7",
   "metadata": {},
   "source": [
    "#### Descriptive statistics"
   ]
  },
  {
   "cell_type": "code",
   "execution_count": null,
   "id": "d42185f7-9b88-497f-8c18-a683ed6974dc",
   "metadata": {},
   "outputs": [],
   "source": [
    "# #Transpose\n",
    "# total_summary = raw_df_total_wide_stan_sub.describe().round(2)\n",
    "# total_summary = total_summary.T\n",
    "# total_summary"
   ]
  },
  {
   "cell_type": "code",
   "execution_count": null,
   "id": "8a4c28ff-d022-4534-8cc2-05500de07814",
   "metadata": {},
   "outputs": [],
   "source": [
    "# raw_df_total_wide_stan_sub.columns = raw_df_total_wide_stan_sub.columns.map('{0[0]}_{0[1]}_{0[2]}_{0[3]}'.format) "
   ]
  },
  {
   "cell_type": "code",
   "execution_count": null,
   "id": "2963e1f4-2bd4-42f4-a8d8-a8f3d4f05298",
   "metadata": {},
   "outputs": [],
   "source": [
    "# raw_df_total_wide_stan_sub"
   ]
  },
  {
   "cell_type": "code",
   "execution_count": null,
   "id": "37316ce2-05ec-4e65-ac98-8d06413b2e85",
   "metadata": {},
   "outputs": [],
   "source": [
    "# raw_df_total_wide_stan_sub.info()"
   ]
  },
  {
   "cell_type": "markdown",
   "id": "00e0c6ba-1b80-4af1-8923-f6d29fb0a53a",
   "metadata": {},
   "source": [
    "#### Save pre-proccesed data"
   ]
  },
  {
   "cell_type": "code",
   "execution_count": null,
   "id": "9054123e-28bf-451e-9c85-4252fb028937",
   "metadata": {},
   "outputs": [],
   "source": [
    "#raw_df_total_wide_stan_sub.to_csv('Data/Terri_data/Pre_processed/pre_processed.csv')"
   ]
  },
  {
   "cell_type": "markdown",
   "id": "829d53bc-a2f6-4ffa-9b3a-b170c9185768",
   "metadata": {},
   "source": [
    "#### Read pre-proccesed data"
   ]
  },
  {
   "cell_type": "code",
   "execution_count": null,
   "id": "b4c63ffb-367b-4d34-88c2-8a89588291bb",
   "metadata": {},
   "outputs": [],
   "source": [
    "raw_df_total_wide_stan_sub = pd.read_csv('Data/Terri_data/Pre_processed/pre_processed.csv',dtype=({'mun_code':str}),index_col='mun_code')"
   ]
  },
  {
   "cell_type": "code",
   "execution_count": null,
   "id": "e24d433f-509a-4684-840e-76f7db6afe54",
   "metadata": {},
   "outputs": [],
   "source": [
    "raw_df_total_wide_stan_sub.info()"
   ]
  },
  {
   "cell_type": "markdown",
   "id": "c913d7ec-92ad-4257-92e7-56d19cb5eca0",
   "metadata": {
    "tags": []
   },
   "source": [
    "### Merge of spatial and non spatial data"
   ]
  },
  {
   "cell_type": "markdown",
   "id": "08f9c945-932b-4538-8d63-578f7bdc8069",
   "metadata": {
    "tags": []
   },
   "source": [
    "#### Non municipalized areas"
   ]
  },
  {
   "cell_type": "code",
   "execution_count": null,
   "id": "abc6343c-7499-4174-9cb1-6506a099ba4b",
   "metadata": {},
   "outputs": [],
   "source": [
    "# Check for completeness of information in the codes"
   ]
  },
  {
   "cell_type": "code",
   "execution_count": null,
   "id": "374da71c-ee21-48ca-a4ac-9497f13d3e67",
   "metadata": {},
   "outputs": [],
   "source": [
    "len(list(raw_df_total_wide_stan_sub.index.values))  # this will always work in pandas"
   ]
  },
  {
   "cell_type": "code",
   "execution_count": null,
   "id": "88e1a97f-0709-4559-9337-f58a0f05cbf6",
   "metadata": {},
   "outputs": [],
   "source": [
    "len(list(mun_geo.MPIO_CDPMP.values))"
   ]
  },
  {
   "cell_type": "code",
   "execution_count": null,
   "id": "35d5bfad-1811-4fb1-b27e-d1f392290221",
   "metadata": {},
   "outputs": [],
   "source": [
    "# Missing codes in Terridata information\n",
    "mun_code_miss = set(list(mun_geo.MPIO_CDPMP.values)) - set(list(raw_df_total_wide_stan_sub.index.values))"
   ]
  },
  {
   "cell_type": "code",
   "execution_count": null,
   "id": "b22cf0c0-ddcf-4c09-9036-6176d49d84ee",
   "metadata": {},
   "outputs": [],
   "source": [
    "mun_geo[mun_geo['MPIO_CDPMP'].isin(mun_code_miss)]"
   ]
  },
  {
   "cell_type": "markdown",
   "id": "dd8fa71a-3ed8-4c3a-a1a9-bf6fd932fcff",
   "metadata": {},
   "source": [
    "**Ajustar**"
   ]
  },
  {
   "cell_type": "code",
   "execution_count": null,
   "id": "8f1844fa-c462-4c1c-af7f-e145635b82c9",
   "metadata": {},
   "outputs": [],
   "source": [
    "fig, ax = plt.subplots(1,1, figsize=(12,9))\n",
    "\n",
    "mun_geo.plot(column='MPIO_TIPO',ax=ax,legend=True)"
   ]
  },
  {
   "cell_type": "code",
   "execution_count": null,
   "id": "69fcf2fd-6a1d-4416-ac34-c924bcb1cace",
   "metadata": {},
   "outputs": [],
   "source": [
    "raw_df_total_wide_stan_sub.head()"
   ]
  },
  {
   "cell_type": "code",
   "execution_count": null,
   "id": "ccca056e-069d-462b-9007-a550a7a7a4e9",
   "metadata": {},
   "outputs": [],
   "source": [
    "### Saving pre-processed data"
   ]
  },
  {
   "cell_type": "code",
   "execution_count": null,
   "id": "ea781b94-fc4e-491a-ad14-16e762233e50",
   "metadata": {},
   "outputs": [],
   "source": []
  },
  {
   "cell_type": "code",
   "execution_count": null,
   "id": "ea5bcdd8-1f3c-4f36-ad9e-893e88902ab6",
   "metadata": {},
   "outputs": [],
   "source": []
  },
  {
   "cell_type": "markdown",
   "id": "419cd1db-a5e3-4359-8b42-5f2c440d9a17",
   "metadata": {},
   "source": [
    "#### Merge of datasets"
   ]
  },
  {
   "cell_type": "code",
   "execution_count": null,
   "id": "024111bb-0893-4edd-ab8f-83c99ad4783b",
   "metadata": {},
   "outputs": [],
   "source": [
    "mun_geo_merged = pd.merge(mun_geo,raw_df_total_wide_stan_sub,how='left',left_on='MPIO_CDPMP',right_index=True)\n",
    "mun_geo_merged.head()"
   ]
  },
  {
   "cell_type": "code",
   "execution_count": null,
   "id": "b5a531aa-bd03-48ca-a3f7-2d4d2f99f0fa",
   "metadata": {},
   "outputs": [],
   "source": [
    "mun_geo_merged[mun_geo_merged['MPIO_CDPMP'].isin(mun_code_miss)]"
   ]
  },
  {
   "cell_type": "markdown",
   "id": "06b9a029-ec4a-464d-8c11-f6f1d2f8c823",
   "metadata": {},
   "source": [
    "**how to fill Nas in non municipilized areas?**\n"
   ]
  },
  {
   "cell_type": "markdown",
   "id": "3aa9c5ea-33df-4d7d-bdf0-7138d044d0fb",
   "metadata": {},
   "source": [
    "#### Filling variables of interest for non municipalized areas"
   ]
  },
  {
   "cell_type": "code",
   "execution_count": null,
   "id": "27b78521-99ba-46fa-9c5a-a46a767407e9",
   "metadata": {},
   "outputs": [],
   "source": [
    "columns_to_fill = list(raw_df_total_wide_stan_sub)"
   ]
  },
  {
   "cell_type": "code",
   "execution_count": null,
   "id": "b770ec97-2461-4a8b-a646-dc64af651397",
   "metadata": {},
   "outputs": [],
   "source": [
    "#Profiling to html\n",
    "#profile = ProfileReport(raw_df_total_wide_stan_sub, title=\"Pandas Profiling Report\")\n",
    "#profile.to_file(\"Profile_raw_df_total_wide_stan_sub.html\")\n",
    "#profile.to_notebook_iframe()"
   ]
  },
  {
   "cell_type": "code",
   "execution_count": null,
   "id": "400b49a1-1f3d-4f8c-9067-456a0cb09a09",
   "metadata": {},
   "outputs": [],
   "source": [
    "#First iteration\n",
    "for col in columns_to_fill:\n",
    "    for i, row in mun_geo_merged.iterrows():\n",
    "        if np.isnan(row[col]):\n",
    "            neighbors = mun_geo_merged[mun_geo_merged.geometry.touches(row.geometry)].copy()\n",
    "            neighbors['mean'] = neighbors[col].mean()\n",
    "            mean = neighbors['mean'].mean()\n",
    "            mun_geo_merged.at[i, col] = mean"
   ]
  },
  {
   "cell_type": "code",
   "execution_count": null,
   "id": "01ff49dd-4caa-4e5e-aaf8-f41e01551e12",
   "metadata": {},
   "outputs": [],
   "source": [
    "mun_geo_merged[mun_geo_merged['MPIO_CDPMP'].isin(mun_code_miss)]"
   ]
  },
  {
   "cell_type": "code",
   "execution_count": null,
   "id": "f9362ad7-6621-4272-a588-615e95946185",
   "metadata": {},
   "outputs": [],
   "source": [
    "mun_geo_merged[mun_geo_merged[columns_to_fill].isna().all(1)]"
   ]
  },
  {
   "cell_type": "code",
   "execution_count": null,
   "id": "0873c4b8-c533-4ec5-aab3-b6c422fa69ce",
   "metadata": {},
   "outputs": [],
   "source": [
    "#Second iteration\n",
    "for col in columns_to_fill:\n",
    "    for i, row in mun_geo_merged.iterrows():\n",
    "        if np.isnan(row[col]):\n",
    "            neighbors = mun_geo_merged[mun_geo_merged.geometry.touches(row.geometry)].copy()\n",
    "            neighbors['mean'] = neighbors[col].mean()\n",
    "            mean = neighbors['mean'].mean()\n",
    "            mun_geo_merged.at[i, col] = mean"
   ]
  },
  {
   "cell_type": "markdown",
   "id": "c35dcdcb-7d2d-48d1-961c-f9fd58d72eac",
   "metadata": {},
   "source": [
    "#San Andres and Providencia Island"
   ]
  },
  {
   "cell_type": "code",
   "execution_count": null,
   "id": "25c5d294-9ab4-4709-8bbd-de17b3a11423",
   "metadata": {},
   "outputs": [],
   "source": [
    "mun_geo_merged[mun_geo_merged[columns_to_fill].isna().all(1)]"
   ]
  },
  {
   "cell_type": "code",
   "execution_count": null,
   "id": "dca88f68-ab0f-4400-848b-8d54dd9cc3be",
   "metadata": {},
   "outputs": [],
   "source": [
    "mun_geo_merged[mun_geo_merged.MPIO_CDPMP=='88564']"
   ]
  },
  {
   "cell_type": "code",
   "execution_count": null,
   "id": "0bc822a6-3a49-4d2b-989e-384e7eb20415",
   "metadata": {},
   "outputs": [],
   "source": [
    "mun_geo_merged[mun_geo_merged.MPIO_CDPMP=='88001']"
   ]
  },
  {
   "cell_type": "code",
   "execution_count": null,
   "id": "1e86f196-245f-469a-89fd-fed36a422c5e",
   "metadata": {},
   "outputs": [],
   "source": [
    "# Removing San Andres and Providencia Island\n",
    "mun_geo_merged.drop(mun_geo_merged[mun_geo_merged.MPIO_CDPMP=='88001'].index,inplace=True)\n",
    "mun_geo_merged.drop(mun_geo_merged[mun_geo_merged.MPIO_CDPMP=='88564'].index,inplace=True)"
   ]
  },
  {
   "cell_type": "code",
   "execution_count": null,
   "id": "d5188887-ea76-4aaa-bfbb-fab39a06c72b",
   "metadata": {},
   "outputs": [],
   "source": []
  },
  {
   "cell_type": "code",
   "execution_count": null,
   "id": "8bbf6c9d-b623-4197-bc7b-d9f44405c07e",
   "metadata": {},
   "outputs": [],
   "source": [
    "mun_geo_merged_clean_name = mun_geo_merged.rename(columns={'Descripción general_Descripción general_Población total_2022': 'Population - 2022',\n",
    "                        'Descripción general_Descripción general_Densidad poblacional_2022': 'Population density - 2022',\n",
    "                        'Demografía y población_Población desagregada por área_Población rural_2022': 'Rural population - 2022',\n",
    "                        'Economía_Valor agregado municipal_Valor agregado per cápita_2020': 'Per capita added value - 2020',\n",
    "                        'Economía_Valor agregado municipal_Valor agregado_2020': 'Added value - 2020',\n",
    "                        'cen_lon_stan': 'Centroid longitude',\n",
    "                        'cen_lat_stan': 'Centroid latitude'})"
   ]
  },
  {
   "cell_type": "code",
   "execution_count": null,
   "id": "3a543cf5-ee99-441d-8c5a-d3fef659a4ba",
   "metadata": {},
   "outputs": [],
   "source": [
    "mun_geo_merged_clean_name.head()"
   ]
  },
  {
   "cell_type": "code",
   "execution_count": null,
   "id": "b57be849-d878-479c-9dd5-5c194d43c590",
   "metadata": {},
   "outputs": [],
   "source": [
    "mun_geo_merged_clean_name.info()"
   ]
  },
  {
   "cell_type": "code",
   "execution_count": null,
   "id": "3bc84dcb-ec9b-4776-8977-3240b3468f77",
   "metadata": {},
   "outputs": [],
   "source": [
    "mun_geo_merged_clean_name_control = mun_geo_merged_clean_name.copy()"
   ]
  },
  {
   "cell_type": "code",
   "execution_count": null,
   "id": "cf59d0d6-7de1-41ae-b570-87b7fd4106a6",
   "metadata": {},
   "outputs": [],
   "source": [
    "mun_geo_merged_clean_name_control.shape"
   ]
  },
  {
   "cell_type": "code",
   "execution_count": null,
   "id": "d3cc3267-d842-44b4-9224-c05724e421de",
   "metadata": {},
   "outputs": [],
   "source": [
    "mun_geo_merged_clean_name_control.head()"
   ]
  },
  {
   "cell_type": "code",
   "execution_count": null,
   "id": "57666809-9c8c-48c8-93db-f88f5c9adbbc",
   "metadata": {},
   "outputs": [],
   "source": [
    "#Including standarized centroids, non spatial and Area as variabels of interest\n",
    "list(mun_geo_merged_clean_name_control.columns)[-8:]"
   ]
  },
  {
   "cell_type": "code",
   "execution_count": null,
   "id": "d4f7a736-aa12-4096-96a4-7a562bd0cba4",
   "metadata": {},
   "outputs": [],
   "source": [
    "cols_to_plot = list(mun_geo_merged_clean_name_control.columns)[-8:]"
   ]
  },
  {
   "cell_type": "code",
   "execution_count": null,
   "id": "a2474cb7-9246-460e-a205-5c562d582649",
   "metadata": {},
   "outputs": [],
   "source": [
    "#mun_geo_merged_clean_name.head()"
   ]
  },
  {
   "cell_type": "code",
   "execution_count": null,
   "id": "83250ee7-54b5-44d7-8dfe-4c1480e4ecd3",
   "metadata": {},
   "outputs": [],
   "source": [
    "mun_geo_merged_clean_name_ana = mun_geo_merged_clean_name[cols_to_plot]"
   ]
  },
  {
   "cell_type": "code",
   "execution_count": null,
   "id": "c95dfc14-e7cf-469b-811f-8e76ea7cea04",
   "metadata": {},
   "outputs": [],
   "source": [
    "mun_geo_merged_clean_name_ana_hist = mun_geo_merged_clean_name_ana.hist(figsize = (20,10),bins=75)\n",
    "plt.suptitle('Histograms of variables of interest')\n",
    "#ax.set_title(\"test\")\n",
    "plt.subplots_adjust(hspace=0.4, wspace=0.4)\n",
    "plt.show()"
   ]
  },
  {
   "cell_type": "markdown",
   "id": "1cc95078-70f9-4ced-b387-2430398e43ed",
   "metadata": {},
   "source": [
    "# Methodology"
   ]
  },
  {
   "cell_type": "markdown",
   "id": "ef3aa071-36d7-4255-b76c-9655d95c1856",
   "metadata": {
    "tags": []
   },
   "source": [
    "## Clustering"
   ]
  },
  {
   "cell_type": "markdown",
   "id": "3fd096d4-ae67-48b8-8fbb-4031aff80977",
   "metadata": {},
   "source": [
    "### Function for ploting clusters centroids"
   ]
  },
  {
   "cell_type": "code",
   "execution_count": null,
   "id": "393159e5-e2f7-4eab-9570-64d4d1847357",
   "metadata": {},
   "outputs": [],
   "source": [
    "# Radar plot of the cluster centroids\n",
    "# adapted from this tutorial: https://towardsdatascience.com/how-to-make-stunning-radar-charts-with-python-implemented-in-matplotlib-and-plotly-91e21801d8ca\n",
    "def radar_plot_cluster_centroids(method,df_cluster_centroid):\n",
    "    # parameters\n",
    "    # df_cluster_centroid: a dataframe with rows representing a cluster centroid and columns representing variables\n",
    "    \n",
    "    # add an additional element to both categories and restaurants that’s identical to the first item\n",
    "    # manually 'close' the line\n",
    "    categories = df_cluster_centroid.columns.values.tolist()\n",
    "    categories = [*categories, categories[0]]\n",
    "    \n",
    "    label_loc = np.linspace(start=0, stop=2 * np.pi, num=len(categories))\n",
    "    \n",
    "    plt.figure(figsize=(12, 8))\n",
    "    plt.subplot(polar=True)\n",
    "    for index, row in df_cluster_centroid.iterrows():\n",
    "        centroid = row.tolist()\n",
    "        centroid = [*centroid, centroid[0]]\n",
    "        label = \"Cluster {}\".format(index)\n",
    "        plt.plot(label_loc, centroid, label=label)\n",
    "    plt.title('Cluster centroid comparison'+' - '+ method, size=20, y=1.05)\n",
    "    lines, labels = plt.thetagrids(np.degrees(label_loc), labels=categories)\n",
    "    plt.legend(bbox_to_anchor=(1.4, 0.5),loc='center right')\n",
    "    plt.show()"
   ]
  },
  {
   "cell_type": "markdown",
   "id": "be37cec7-3168-4b6e-8174-8ecf852a2112",
   "metadata": {},
   "source": [
    "### Non spatial clustering"
   ]
  },
  {
   "cell_type": "markdown",
   "id": "48798556-410d-4a77-9239-7949df5529f9",
   "metadata": {
    "tags": []
   },
   "source": [
    "#### DBSCAN"
   ]
  },
  {
   "cell_type": "markdown",
   "id": "9ccd31f4-7579-4a80-a3b2-c475693c695e",
   "metadata": {},
   "source": [
    "**Should take only rates in the variable?**"
   ]
  },
  {
   "cell_type": "code",
   "execution_count": null,
   "id": "706e9a32-8b88-48d9-8459-5402d054dbec",
   "metadata": {},
   "outputs": [],
   "source": [
    "list(mun_geo_merged_clean_name_control.columns)[-6:]"
   ]
  },
  {
   "cell_type": "code",
   "execution_count": null,
   "id": "f6a01625-554d-4777-a6a3-23ca16615a15",
   "metadata": {},
   "outputs": [],
   "source": [
    "mun_geo_merged_clean_name_control"
   ]
  },
  {
   "cell_type": "code",
   "execution_count": null,
   "id": "55182cd8-5236-40e9-889c-ef27305b53d8",
   "metadata": {},
   "outputs": [],
   "source": [
    "non_spatial = list(mun_geo_merged_clean_name_control.columns)[-6:]"
   ]
  },
  {
   "cell_type": "code",
   "execution_count": null,
   "id": "83a4583f-dc98-4898-b1c4-f210554c7416",
   "metadata": {},
   "outputs": [],
   "source": [
    "minPts = 7 # we set minPts as normed.shape[1] + 1 \n",
    "epsilon = 0.05\n",
    "dbsc_non = DBSCAN(eps=epsilon, min_samples=minPts)\n",
    "dbsc_non.fit(mun_geo_merged_clean_name[non_spatial])\n",
    "\n",
    "# We now have our DBSCAN object created, and we can extract the groups it has identified. We do this using the `.labels_` method.\n",
    "\n",
    "mun_geo_merged_clean_name['non_spatial_dbscan'] = dbsc_non.labels_"
   ]
  },
  {
   "cell_type": "code",
   "execution_count": null,
   "id": "c1ea1fbf-cae5-4fd5-8de0-f8c66281624c",
   "metadata": {},
   "outputs": [],
   "source": [
    "# Summary\n",
    "pd.Series(dbsc_non.labels_).value_counts()"
   ]
  },
  {
   "cell_type": "code",
   "execution_count": null,
   "id": "ab4b76fa-fd6b-4006-a259-6a950d8a48aa",
   "metadata": {},
   "outputs": [],
   "source": [
    "len(mun_geo_merged_clean_name['non_spatial_dbscan'].unique())"
   ]
  },
  {
   "cell_type": "code",
   "execution_count": null,
   "id": "8ab6973e-8a52-416a-b5a1-364921b3044d",
   "metadata": {},
   "outputs": [],
   "source": [
    "mun_geo_merged_clean_name[['non_spatial_dbscan','MPIO_CDPMP']].groupby('non_spatial_dbscan').count()"
   ]
  },
  {
   "cell_type": "code",
   "execution_count": null,
   "id": "eac65c3d-93f0-461c-a9e0-4d403d9d903f",
   "metadata": {},
   "outputs": [],
   "source": [
    "mun_geo_merged_clean_name.groupby('non_spatial_dbscan')['MPIO_CDPMP'].count().mean()"
   ]
  },
  {
   "cell_type": "code",
   "execution_count": null,
   "id": "bbd78194-22f2-4d65-a4ae-b6d31157cd65",
   "metadata": {},
   "outputs": [],
   "source": [
    "metrics.silhouette_score(mun_geo_merged_clean_name_control[non_spatial], dbsc_non.labels_)"
   ]
  },
  {
   "cell_type": "code",
   "execution_count": null,
   "id": "332ce136-84ad-4d98-817d-7227bb6c4228",
   "metadata": {},
   "outputs": [],
   "source": [
    "fig, ax = plt.subplots(1,1, figsize=(12,9))\n",
    "mun_geo_merged_clean_name.plot(column='non_spatial_dbscan',ax=ax,legend=True,linewidth=0.5,categorical=True)"
   ]
  },
  {
   "cell_type": "markdown",
   "id": "2313d86b-708b-4075-94f4-c13fdc44b53e",
   "metadata": {},
   "source": [
    "**hierawuical plot**\n",
    "\n",
    "**Twin partnership cities**"
   ]
  },
  {
   "cell_type": "code",
   "execution_count": null,
   "id": "a0862c9d-dd8e-42a4-98d3-0735f94cc051",
   "metadata": {},
   "outputs": [],
   "source": [
    "#mun_geo_merged_clean_name_control[non_spatial]"
   ]
  },
  {
   "cell_type": "markdown",
   "id": "ea83e70b-d93b-4f6f-9fd4-c16cf71ed53c",
   "metadata": {},
   "source": [
    "Clustering comparasion"
   ]
  },
  {
   "cell_type": "code",
   "execution_count": null,
   "id": "34591c35-5e0a-4c1b-a108-2e81ba5b2ce3",
   "metadata": {},
   "outputs": [],
   "source": [
    "df_dbscan_non = mun_geo_merged_clean_name_control[non_spatial].copy()\n",
    "df_dbscan_non['non_spatial_dbscan'] = dbsc_non.labels_\n",
    "df_dbscan_non_centroid = df_dbscan_non.groupby('non_spatial_dbscan').mean()\n",
    "# drop the outlier\n",
    "#df_dbscan_non_centroid.drop(-1, inplace=True)\n",
    "# df_dbscan_centroid.reset_index()\n",
    "radar_plot_cluster_centroids('Non spatial DBSCAN',df_dbscan_non_centroid)\n",
    "#plt.title('Non spatial cluster centroid comparison', size=20, y=1.05)"
   ]
  },
  {
   "cell_type": "code",
   "execution_count": null,
   "id": "f50c7909-88d7-4a07-b099-357839aa2b08",
   "metadata": {},
   "outputs": [],
   "source": [
    "df_dbscan_non_centroid"
   ]
  },
  {
   "cell_type": "code",
   "execution_count": null,
   "id": "929d406f-c3e1-4dc6-a655-e8e3098986a3",
   "metadata": {},
   "outputs": [],
   "source": [
    "#Silhouette Score\n",
    "metrics.silhouette_score(mun_geo_merged_clean_name_control[non_spatial], dbsc_non.labels_)"
   ]
  },
  {
   "cell_type": "code",
   "execution_count": null,
   "id": "23f59495-188f-4bb5-b5f0-08e80e5f7257",
   "metadata": {},
   "outputs": [],
   "source": [
    "mun_geo_merged_clean_name[mun_geo_merged_clean_name.non_spatial_dbscan==1]"
   ]
  },
  {
   "cell_type": "code",
   "execution_count": null,
   "id": "8b81da96-6383-4e81-9184-6247b1acaebc",
   "metadata": {},
   "outputs": [],
   "source": [
    "#mun_geo_merged_clean_name[mun_geo_merged_clean_name.non_spatial_cluster==-1]"
   ]
  },
  {
   "cell_type": "markdown",
   "id": "a2729577-72dd-463f-8ddf-14d4228d6597",
   "metadata": {},
   "source": [
    "**Urban bised variables**"
   ]
  },
  {
   "cell_type": "markdown",
   "id": "d79a329b-1a1c-410f-8e3d-d5caec217703",
   "metadata": {
    "tags": []
   },
   "source": [
    "#### Kmeans"
   ]
  },
  {
   "cell_type": "markdown",
   "id": "613bf0b8-5bd6-41c6-8900-d0263e748ea8",
   "metadata": {},
   "source": [
    "**Prevent randomness in Kmeans**"
   ]
  },
  {
   "cell_type": "code",
   "execution_count": null,
   "id": "24c850d4-02fa-4b03-8e70-bc92b263473f",
   "metadata": {},
   "outputs": [],
   "source": [
    "k_cluster = 4\n",
    "random_seed = 1\n",
    "kmeans_method_non_spatial = KMeans(n_clusters=k_cluster,random_state=random_seed, n_init=50)\n",
    "kmeans_method_non_spatial.fit(mun_geo_merged_clean_name[non_spatial])"
   ]
  },
  {
   "cell_type": "code",
   "execution_count": null,
   "id": "e3449353-2fcd-4309-9766-86ec620e7616",
   "metadata": {},
   "outputs": [],
   "source": [
    "mun_geo_merged_clean_name['non_spatial_kmeans'] = kmeans_method_non_spatial.labels_"
   ]
  },
  {
   "cell_type": "markdown",
   "id": "e2dbbded-bb8f-4957-b52e-6842a6f66d1a",
   "metadata": {},
   "source": [
    "Clustering comparasion"
   ]
  },
  {
   "cell_type": "code",
   "execution_count": null,
   "id": "41ec33d4-36d5-4c61-9b83-2287361797b1",
   "metadata": {},
   "outputs": [],
   "source": [
    "df_kmeans_non_spatial = mun_geo_merged_clean_name_control[non_spatial].copy()\n",
    "df_kmeans_non_spatial['non_spatial_kmeans'] = kmeans_method_non_spatial.labels_\n",
    "df_kmeans_non_spatial_centroid = df_kmeans_non_spatial.groupby('non_spatial_kmeans').mean()\n",
    "# drop the outlier\n",
    "#df_kmeans_non_spatial_centroid.drop(-1, inplace=True)\n",
    "# df_dbscan_centroid.reset_index()\n",
    "radar_plot_cluster_centroids('Non spatial Kmeans',df_kmeans_non_spatial_centroid)"
   ]
  },
  {
   "cell_type": "code",
   "execution_count": null,
   "id": "1a60e1e9-27f5-4a34-a1dd-29deeb9dd2d2",
   "metadata": {
    "tags": []
   },
   "outputs": [],
   "source": [
    "df_kmeans_non_spatial_centroid"
   ]
  },
  {
   "cell_type": "code",
   "execution_count": null,
   "id": "5f022ae4-41ec-40c2-89ba-de00458feb37",
   "metadata": {
    "tags": []
   },
   "outputs": [],
   "source": [
    "metrics.silhouette_score(mun_geo_merged_clean_name_control[non_spatial], kmeans_method_non_spatial.labels_)"
   ]
  },
  {
   "cell_type": "markdown",
   "id": "972ae902-abc9-4973-bd40-9f1c1587c7e0",
   "metadata": {},
   "source": [
    "Right number of clusters"
   ]
  },
  {
   "cell_type": "code",
   "execution_count": null,
   "id": "302ce4c2-d9ec-4be8-ae5f-ee74a0929f2d",
   "metadata": {},
   "outputs": [],
   "source": [
    "# calculate SSE for a range of number of cluster\n",
    "list_SSE_non = []\n",
    "min_k = 1\n",
    "max_k = 10\n",
    "range_k = range(min_k, max_k+1)\n",
    "for i in range_k:\n",
    "    km_non = KMeans(\n",
    "        n_clusters=i, init='random',\n",
    "        n_init=50, max_iter=300,\n",
    "        tol=1e-04, random_state=1\n",
    "    )\n",
    "    km_non.fit(mun_geo_merged_clean_name[non_spatial])\n",
    "    # inertia is a concept from physics. Roughly it means SSE of clustering.\n",
    "    list_SSE_non.append(km_non.inertia_)\n",
    "\n",
    "# plot\n",
    "plt.plot(range_k, list_SSE_non, marker='o')\n",
    "plt.xlabel('Number of clusters')\n",
    "plt.ylabel('SSE')\n",
    "plt.show()"
   ]
  },
  {
   "cell_type": "markdown",
   "id": "0d8a188e-b2a7-4751-b900-d9aa3092e8f6",
   "metadata": {},
   "source": [
    "Interpratition: 3 clusters?"
   ]
  },
  {
   "cell_type": "markdown",
   "id": "eb2ec967-d22a-4a22-a14a-77b7ce4a3d9a",
   "metadata": {},
   "source": [
    "##### Reviewed"
   ]
  },
  {
   "cell_type": "code",
   "execution_count": null,
   "id": "746aa787-630e-41ee-bd3d-b96404c3e17d",
   "metadata": {},
   "outputs": [],
   "source": [
    "k_cluster = 3\n",
    "random_seed = 1\n",
    "kmeans_method_non_spatial_re = KMeans(n_clusters=k_cluster,random_state=random_seed, n_init=50)\n",
    "kmeans_method_non_spatial_re.fit(mun_geo_merged_clean_name[non_spatial])"
   ]
  },
  {
   "cell_type": "code",
   "execution_count": null,
   "id": "26fceb66-0d81-4c99-9dd6-f8df320b7e3e",
   "metadata": {},
   "outputs": [],
   "source": [
    "mun_geo_merged_clean_name['non_spatial_kmeans_re'] = kmeans_method_non_spatial_re.labels_"
   ]
  },
  {
   "cell_type": "markdown",
   "id": "ffb6c58c-be1f-417b-8a13-fc584595ad3f",
   "metadata": {},
   "source": [
    "Clustering comparasion"
   ]
  },
  {
   "cell_type": "code",
   "execution_count": null,
   "id": "d1f40785-93f6-483e-b1df-0c661eb5ed99",
   "metadata": {},
   "outputs": [],
   "source": [
    "df_kmeans_non_spatial_re = mun_geo_merged_clean_name_control[non_spatial].copy()\n",
    "df_kmeans_non_spatial_re['non_spatial_kmeans_re'] = kmeans_method_non_spatial_re.labels_\n",
    "df_kmeans_non_spatial_re_centroid = df_kmeans_non_spatial_re.groupby('non_spatial_kmeans_re').mean()\n",
    "# drop the outlier\n",
    "#df_kmeans_non_spatial_centroid.drop(-1, inplace=True)\n",
    "# df_dbscan_centroid.reset_index()\n",
    "radar_plot_cluster_centroids('Non spatial Kmeans rerun',df_kmeans_non_spatial_re_centroid)"
   ]
  },
  {
   "cell_type": "code",
   "execution_count": null,
   "id": "802e7552-37ae-4417-9dd4-ca45659484a6",
   "metadata": {
    "tags": []
   },
   "outputs": [],
   "source": [
    "df_kmeans_non_spatial_re_centroid"
   ]
  },
  {
   "cell_type": "code",
   "execution_count": null,
   "id": "81711e4b-6cbf-481d-afef-07445501b869",
   "metadata": {
    "tags": []
   },
   "outputs": [],
   "source": [
    "metrics.silhouette_score(mun_geo_merged_clean_name_control[non_spatial], kmeans_method_non_spatial_re.labels_)"
   ]
  },
  {
   "cell_type": "markdown",
   "id": "fee5d38a-5019-4f08-891e-df72262717ac",
   "metadata": {},
   "source": [
    "Slight improvement"
   ]
  },
  {
   "cell_type": "markdown",
   "id": "7be16496-df07-4bb6-a493-6033e7b08373",
   "metadata": {},
   "source": [
    "#### Hierarchical clustering"
   ]
  },
  {
   "cell_type": "markdown",
   "id": "20f068ff-9b6d-43c0-824e-d604b066b3bf",
   "metadata": {},
   "source": [
    "The code of **plot_dendrogram** is based on the practical material, which is largely based on this [tutorial](https://scikit-learn.org/stable/auto_examples/cluster/plot_agglomerative_dendrogram.html#sphx-glr-auto-examples-cluster-plot-agglomerative-dendrogram-py)."
   ]
  },
  {
   "cell_type": "code",
   "execution_count": null,
   "id": "d0a9c4b7-4d67-483e-8509-91df643859b1",
   "metadata": {},
   "outputs": [],
   "source": [
    "def plot_dendrogram(model, **kwargs):\n",
    "    # Create linkage matrix and then plot the dendrogram\n",
    "\n",
    "    # create the counts of samples under each node\n",
    "    counts = np.zeros(model.children_.shape[0])\n",
    "    n_samples = len(model.labels_)\n",
    "    for i, merge in enumerate(model.children_):\n",
    "        current_count = 0\n",
    "        for child_idx in merge:\n",
    "            if child_idx < n_samples:\n",
    "                current_count += 1  # leaf node\n",
    "            else:\n",
    "                current_count += counts[child_idx - n_samples]\n",
    "        counts[i] = current_count\n",
    "\n",
    "    linkage_matrix = np.column_stack(\n",
    "        [model.children_, model.distances_, counts]\n",
    "    ).astype(float)\n",
    "\n",
    "    # Plot the corresponding dendrogram\n",
    "    dendrogram(linkage_matrix, leaf_rotation=90., **kwargs)"
   ]
  },
  {
   "cell_type": "code",
   "execution_count": null,
   "id": "6d69cbd7-d5b8-4d04-982b-9888a4f2a6be",
   "metadata": {},
   "outputs": [],
   "source": [
    "agg_cluster_non = AgglomerativeClustering(distance_threshold=0, n_clusters=None).fit(mun_geo_merged_clean_name_control[non_spatial])"
   ]
  },
  {
   "cell_type": "code",
   "execution_count": null,
   "id": "132b4e00-ed4c-4443-ae26-23afb8cfc05d",
   "metadata": {},
   "outputs": [],
   "source": [
    "ax = plt.gca()\n",
    "plt.title(\"Hierarchical Clustering Dendrogram - Non spatial\")\n",
    "# plot the top three levels of the dendrogram\n",
    "plot_dendrogram(agg_cluster_non, truncate_mode=\"level\", p=3)\n",
    "plt.xlabel(\"Number of points in node (or index of point if no parenthesis).\")\n",
    "plt.ylabel('distance')\n",
    "plt.hlines(2.65, ax.get_xlim()[0], ax.get_xlim()[1], linestyle='dashed', color='k')\n",
    "plt.hlines(2, ax.get_xlim()[0], ax.get_xlim()[1], linestyle='dashed', color='k')\n",
    "plt.hlines(1.75, ax.get_xlim()[0], ax.get_xlim()[1], linestyle='dashed', color='c')\n",
    "plt.show()"
   ]
  },
  {
   "cell_type": "markdown",
   "id": "9fb9d391-10d6-452f-b961-640ebafa7c19",
   "metadata": {},
   "source": [
    "The distance between 3 and 4 clusters, is greater than the distacne between the 4 and 5 clusters. This indicates that it is preferable to keep the 4 clusters, instead of 5."
   ]
  },
  {
   "cell_type": "markdown",
   "id": "fe7f3eb8-ac07-497f-83d4-9e7c4714fae5",
   "metadata": {},
   "source": [
    "**Attention**"
   ]
  },
  {
   "cell_type": "code",
   "execution_count": null,
   "id": "62a99151-5264-4fc7-835e-2343042140b7",
   "metadata": {},
   "outputs": [],
   "source": [
    "# Storing clusters lablel\n",
    "mun_geo_merged_clean_name['non_spatial_hierarchical'] = agg_cluster_non.labels_"
   ]
  },
  {
   "cell_type": "markdown",
   "id": "d5502d92-cb03-4785-b3b6-e8ee37f3a51e",
   "metadata": {},
   "source": [
    "##### Reviewed"
   ]
  },
  {
   "cell_type": "code",
   "execution_count": null,
   "id": "c1529fb9-bcee-490f-80e4-a16548f3cf4c",
   "metadata": {},
   "outputs": [],
   "source": [
    "agg_cluster_non_re = AgglomerativeClustering(distance_threshold=None, n_clusters=4).fit(mun_geo_merged_clean_name_control[non_spatial])"
   ]
  },
  {
   "cell_type": "code",
   "execution_count": null,
   "id": "e6e086db-9f68-4bb9-b890-9c62016a5cbe",
   "metadata": {},
   "outputs": [],
   "source": [
    "# Storing re cluster labels\n",
    "mun_geo_merged_clean_name['non_spatial_hierarchical_4'] = agg_cluster_non_re.labels_"
   ]
  },
  {
   "cell_type": "code",
   "execution_count": null,
   "id": "536389ef-aa0d-45c0-8353-52e1f5e41b99",
   "metadata": {
    "tags": []
   },
   "outputs": [],
   "source": [
    "#Silhouette Score\n",
    "metrics.silhouette_score(mun_geo_merged_clean_name_control[non_spatial], agg_cluster_non_re.labels_)"
   ]
  },
  {
   "cell_type": "code",
   "execution_count": null,
   "id": "d7517569-8fdc-4824-af14-5a1a6a08c727",
   "metadata": {},
   "outputs": [],
   "source": [
    "mun_geo_merged_clean_name.head()"
   ]
  },
  {
   "cell_type": "markdown",
   "id": "6212ca33-75f8-4979-9091-6558c64470e8",
   "metadata": {
    "tags": []
   },
   "source": [
    "### Partially spatial clustering"
   ]
  },
  {
   "cell_type": "code",
   "execution_count": null,
   "id": "ec90c843-d659-4ca4-a255-a7c68cd5e3ec",
   "metadata": {},
   "outputs": [],
   "source": [
    "list(mun_geo_merged_clean_name_control.columns)[-8:]"
   ]
  },
  {
   "cell_type": "code",
   "execution_count": null,
   "id": "ef355f5a-3646-4f3d-bf09-9eacd9b304ae",
   "metadata": {},
   "outputs": [],
   "source": [
    "part_spatial = list(mun_geo_merged_clean_name_control.columns)[-8:]"
   ]
  },
  {
   "cell_type": "code",
   "execution_count": null,
   "id": "2edc794e-9341-4780-96d3-8b570a172d51",
   "metadata": {},
   "outputs": [],
   "source": [
    "metrics.silhouette_score(mun_geo_merged_clean_name_control[part_spatial], mun_geo_merged_clean_name_control['DPTO_CCDGO'])"
   ]
  },
  {
   "cell_type": "markdown",
   "id": "14f69898-befa-465d-a000-558beb089bcd",
   "metadata": {
    "tags": []
   },
   "source": [
    "#### DBSCAN"
   ]
  },
  {
   "cell_type": "markdown",
   "id": "3d9206a7-4cde-41fe-87d0-8f146331cf28",
   "metadata": {},
   "source": [
    "**DBSCAN on non spatial and then take the labels to geo pandas**\n",
    "\n",
    "**Or subset the columns for the non spatial clustering**"
   ]
  },
  {
   "cell_type": "code",
   "execution_count": null,
   "id": "c067c74e-5010-4625-83b6-6f8249392b44",
   "metadata": {},
   "outputs": [],
   "source": [
    "minPts = 9 # we set minPts as normed.shape[1] + 1 \n",
    "epsilon = 0.05\n",
    "dbsc_part = DBSCAN(eps=epsilon, min_samples=minPts)\n",
    "dbsc_part.fit(mun_geo_merged_clean_name[part_spatial])\n",
    "\n",
    "# We now have our DBSCAN object created, and we can extract the groups it has identified. We do this using the `.labels_` method.\n",
    "\n",
    "mun_geo_merged_clean_name['part_spatial_dbscan'] = dbsc_part.labels_"
   ]
  },
  {
   "cell_type": "code",
   "execution_count": null,
   "id": "7121beed-b0b6-456a-85f4-7bcfeae03f7c",
   "metadata": {},
   "outputs": [],
   "source": [
    "# Summary\n",
    "pd.Series(dbsc_part.labels_).value_counts()"
   ]
  },
  {
   "cell_type": "markdown",
   "id": "47beae56-ccf5-4519-badf-fbaf742d2149",
   "metadata": {},
   "source": [
    "**Move maps to the end of the process**"
   ]
  },
  {
   "cell_type": "code",
   "execution_count": null,
   "id": "798a024d-2621-4c8b-8e09-c11f5d27b63c",
   "metadata": {},
   "outputs": [],
   "source": [
    "fig, ax = plt.subplots(1,1, figsize=(12,9))\n",
    "mun_geo_merged_clean_name.plot(column='part_spatial_dbscan',categorical=True,ax=ax,legend=True,linewidth=0.5)"
   ]
  },
  {
   "cell_type": "markdown",
   "id": "cc52735c-f1cb-4288-a67a-5a3034e11ff7",
   "metadata": {},
   "source": [
    "Clustering comparasion"
   ]
  },
  {
   "cell_type": "code",
   "execution_count": null,
   "id": "0ebcc523-2f99-45ef-9bdb-31d0a2beaf4a",
   "metadata": {},
   "outputs": [],
   "source": [
    "#part_spatial"
   ]
  },
  {
   "cell_type": "code",
   "execution_count": null,
   "id": "d022c29a-b194-4245-a08f-72de0d0cef56",
   "metadata": {},
   "outputs": [],
   "source": [
    "df_dbscan_part = mun_geo_merged_clean_name_control[part_spatial].copy()\n",
    "df_dbscan_part['part_spatial_dbscan'] = dbsc_part.labels_\n",
    "df_dbscan_centroid_part = df_dbscan_part.groupby('part_spatial_dbscan').mean()\n",
    "# drop the outlier\n",
    "#df_dbscan_centroid1.drop(-1, inplace=True)\n",
    "# df_dbscan_centroid.reset_index()\n",
    "radar_plot_cluster_centroids('Partially spatial DBSCAN',df_dbscan_centroid_part)"
   ]
  },
  {
   "cell_type": "code",
   "execution_count": null,
   "id": "f3159c23-8335-4501-8301-98515be75295",
   "metadata": {},
   "outputs": [],
   "source": [
    "df_dbscan_centroid_part"
   ]
  },
  {
   "cell_type": "code",
   "execution_count": null,
   "id": "903d07e4-4689-4a5b-8e4c-2784a343fd07",
   "metadata": {},
   "outputs": [],
   "source": [
    "#Silhouette Score\n",
    "metrics.silhouette_score(mun_geo_merged_clean_name_control[part_spatial], dbsc_part.labels_)"
   ]
  },
  {
   "cell_type": "markdown",
   "id": "b4410958-f022-4564-85a7-9a84c2f898ed",
   "metadata": {},
   "source": [
    "Overlaping of clusters"
   ]
  },
  {
   "cell_type": "code",
   "execution_count": null,
   "id": "44d160f2-58ff-488d-b261-b52b1a324a4e",
   "metadata": {},
   "outputs": [],
   "source": [
    "#mun_geo_merged_clean_name[mun_geo_merged_clean_name.part_spatial_cluster==-1]"
   ]
  },
  {
   "cell_type": "markdown",
   "id": "9fa36201-4917-4a29-ae44-c0f91cf7919f",
   "metadata": {
    "tags": []
   },
   "source": [
    "#### Kmeans"
   ]
  },
  {
   "cell_type": "markdown",
   "id": "31f57fba-6883-4e54-8cd7-9273ca14a786",
   "metadata": {},
   "source": [
    "**Prevent randomness in Kmeans**"
   ]
  },
  {
   "cell_type": "code",
   "execution_count": null,
   "id": "a4b1838f-9a17-4f03-8671-f56ad871e5fe",
   "metadata": {},
   "outputs": [],
   "source": [
    "k_cluster = 4\n",
    "random_seed = 1\n",
    "kmeans_method_part_spatial = KMeans(n_clusters=k_cluster,random_state=random_seed, n_init=50)\n",
    "kmeans_method_part_spatial.fit(mun_geo_merged_clean_name[part_spatial])"
   ]
  },
  {
   "cell_type": "code",
   "execution_count": null,
   "id": "d3c64a0c-171a-426f-8174-a7b59dc59185",
   "metadata": {},
   "outputs": [],
   "source": [
    "mun_geo_merged_clean_name['part_spatial_kmeans'] = kmeans_method_part_spatial.labels_"
   ]
  },
  {
   "cell_type": "markdown",
   "id": "da40e087-3bf6-4b6e-867a-de09df925ae1",
   "metadata": {},
   "source": [
    "Clustering comparasion"
   ]
  },
  {
   "cell_type": "code",
   "execution_count": null,
   "id": "f00ca525-0ba8-4a99-a5b7-d782b3f5b152",
   "metadata": {},
   "outputs": [],
   "source": [
    "df_kmeans_part_spatial = mun_geo_merged_clean_name_control[part_spatial].copy()\n",
    "df_kmeans_part_spatial['part_spatial_kmeans'] = kmeans_method_part_spatial.labels_\n",
    "df_kmeans_part_spatial_centroid = df_kmeans_part_spatial.groupby('part_spatial_kmeans').mean()\n",
    "# drop the outlier\n",
    "#df_kmeans_non_spatial_centroid.drop(-1, inplace=True)\n",
    "# df_dbscan_centroid.reset_index()\n",
    "radar_plot_cluster_centroids('Partially spatial Kmeans',df_kmeans_part_spatial_centroid)"
   ]
  },
  {
   "cell_type": "code",
   "execution_count": null,
   "id": "1347f184-0274-4fb6-babf-12595d12e7de",
   "metadata": {
    "tags": []
   },
   "outputs": [],
   "source": [
    "df_kmeans_part_spatial_centroid"
   ]
  },
  {
   "cell_type": "code",
   "execution_count": null,
   "id": "2f5fcdfe-2c98-4d78-9a83-7a670efeac63",
   "metadata": {
    "tags": []
   },
   "outputs": [],
   "source": [
    "metrics.silhouette_score(mun_geo_merged_clean_name_control[part_spatial], kmeans_method_part_spatial.labels_)"
   ]
  },
  {
   "cell_type": "markdown",
   "id": "a400761e-1132-41b0-8ca0-ea00e401b716",
   "metadata": {},
   "source": [
    "Improvement compared to non spatial DBSCAN."
   ]
  },
  {
   "cell_type": "markdown",
   "id": "051b46c0-3916-44eb-9191-36dd0c189f10",
   "metadata": {},
   "source": [
    "Right number of clusters"
   ]
  },
  {
   "cell_type": "code",
   "execution_count": null,
   "id": "c4cacbe1-8ed6-4cb5-9f8a-511973dc97b6",
   "metadata": {},
   "outputs": [],
   "source": [
    "# calculate SSE for a range of number of cluster\n",
    "list_SSE_part = []\n",
    "min_k = 1\n",
    "max_k = 10\n",
    "range_k = range(min_k, max_k+1)\n",
    "for i in range_k:\n",
    "    km_part = KMeans(\n",
    "        n_clusters=i, init='random',\n",
    "        n_init=50, max_iter=300,\n",
    "        tol=1e-04, random_state=1\n",
    "    )\n",
    "    km_part.fit(mun_geo_merged_clean_name[part_spatial])\n",
    "    # inertia is a concept from physics. Roughly it means SSE of clustering.\n",
    "    list_SSE_part.append(km_part.inertia_)\n",
    "\n",
    "# plot\n",
    "plt.plot(range_k, list_SSE_part, marker='o')\n",
    "plt.xlabel('Number of clusters')\n",
    "plt.ylabel('SSE')\n",
    "plt.show()"
   ]
  },
  {
   "cell_type": "markdown",
   "id": "7e97f798-75e8-4e3a-9d43-d1edee3f245f",
   "metadata": {},
   "source": [
    "Interpratition: 3 clusters?"
   ]
  },
  {
   "cell_type": "markdown",
   "id": "9288027a-2b77-4eca-9a4c-d49f22c28e92",
   "metadata": {},
   "source": [
    "##### Reviewed"
   ]
  },
  {
   "cell_type": "code",
   "execution_count": null,
   "id": "df1c378b-d3bb-4c7c-87d7-6135b4c44c71",
   "metadata": {},
   "outputs": [],
   "source": [
    "k_cluster = 3\n",
    "random_seed = 1\n",
    "kmeans_method_part_spatial_re = KMeans(n_clusters=k_cluster,random_state=random_seed, n_init=50)\n",
    "kmeans_method_part_spatial_re.fit(mun_geo_merged_clean_name[part_spatial])"
   ]
  },
  {
   "cell_type": "code",
   "execution_count": null,
   "id": "ab87c78d-7eee-4f80-828c-8fe560766203",
   "metadata": {},
   "outputs": [],
   "source": [
    "mun_geo_merged_clean_name['part_spatial_kmeans_re'] = kmeans_method_part_spatial_re.labels_"
   ]
  },
  {
   "cell_type": "markdown",
   "id": "d67147b0-b1dc-4212-b454-2ec10b5037e0",
   "metadata": {},
   "source": [
    "Clustering comparasion"
   ]
  },
  {
   "cell_type": "code",
   "execution_count": null,
   "id": "e99fa01c-e328-4900-ab62-64c1d5c2a2d4",
   "metadata": {},
   "outputs": [],
   "source": [
    "df_kmeans_part_spatial_re = mun_geo_merged_clean_name_control[part_spatial].copy()\n",
    "df_kmeans_part_spatial_re['part_spatial_kmeans_re'] = kmeans_method_part_spatial_re.labels_\n",
    "df_kmeans_part_spatial_re_centroid = df_kmeans_part_spatial_re.groupby('part_spatial_kmeans_re').mean()\n",
    "# drop the outlier\n",
    "#df_kmeans_non_spatial_centroid.drop(-1, inplace=True)\n",
    "# df_dbscan_centroid.reset_index()\n",
    "radar_plot_cluster_centroids('Partially spatial Kmeans rerun',df_kmeans_part_spatial_re_centroid)"
   ]
  },
  {
   "cell_type": "code",
   "execution_count": null,
   "id": "2813e976-fe2e-4024-bf36-019747b42499",
   "metadata": {
    "tags": []
   },
   "outputs": [],
   "source": [
    "df_kmeans_part_spatial_re_centroid"
   ]
  },
  {
   "cell_type": "code",
   "execution_count": null,
   "id": "74a34141-6d4f-4c8d-a2a2-7955352cfb52",
   "metadata": {
    "tags": []
   },
   "outputs": [],
   "source": [
    "metrics.silhouette_score(mun_geo_merged_clean_name_control[part_spatial], kmeans_method_part_spatial_re.labels_)"
   ]
  },
  {
   "cell_type": "markdown",
   "id": "e824e563-c476-4791-b820-854a34dd36f9",
   "metadata": {},
   "source": [
    "Slight improvement compared same method."
   ]
  },
  {
   "cell_type": "markdown",
   "id": "b9051dac-5393-4a6f-acd2-0ab93d89b786",
   "metadata": {},
   "source": [
    "#### Hierarchical clustering"
   ]
  },
  {
   "cell_type": "code",
   "execution_count": null,
   "id": "e3441a0f-4c01-427e-aab6-262ecbee8e12",
   "metadata": {},
   "outputs": [],
   "source": [
    "agg_cluster_part = AgglomerativeClustering(distance_threshold=0, n_clusters=None).fit(mun_geo_merged_clean_name_control[part_spatial])"
   ]
  },
  {
   "cell_type": "code",
   "execution_count": null,
   "id": "4e9386aa-f103-4a42-9fd5-a3670812c274",
   "metadata": {},
   "outputs": [],
   "source": [
    "ax = plt.gca()\n",
    "plt.title(\"Hierarchical Clustering Dendrogram - Partially spatial\")\n",
    "# plot the top three levels of the dendrogram\n",
    "plot_dendrogram(agg_cluster_part, truncate_mode=\"level\", p=3)\n",
    "plt.xlabel(\"Number of points in node (or index of point if no parenthesis).\")\n",
    "plt.ylabel('distance')\n",
    "plt.hlines(4.4, ax.get_xlim()[0], ax.get_xlim()[1], linestyle='dashed', color='k')\n",
    "plt.hlines(3.5, ax.get_xlim()[0], ax.get_xlim()[1], linestyle='dashed', color='k')\n",
    "plt.hlines(2.9, ax.get_xlim()[0], ax.get_xlim()[1], linestyle='dashed', color='c')\n",
    "plt.show()"
   ]
  },
  {
   "cell_type": "markdown",
   "id": "f7a5e7f1-a792-4e25-b79e-84eb391a5048",
   "metadata": {},
   "source": [
    "The distance between 3 and 4 clusters, is greater than the distacne between the 4 and 5 clusters. This indicates that it is preferable to keep the 4 clusters, instead of 5."
   ]
  },
  {
   "cell_type": "code",
   "execution_count": null,
   "id": "2e4fc206-d15f-4c59-ab50-afb676594670",
   "metadata": {},
   "outputs": [],
   "source": [
    "# Storing clusters lablel\n",
    "mun_geo_merged_clean_name['part_spatial_hierarchical'] = agg_cluster_part.labels_"
   ]
  },
  {
   "cell_type": "markdown",
   "id": "b3e7f0e9-723a-4d6d-954f-34fc7ae9c9f7",
   "metadata": {},
   "source": [
    "##### Reviewed"
   ]
  },
  {
   "cell_type": "code",
   "execution_count": null,
   "id": "70c0ca41-4f98-4117-951a-c63ade093ee7",
   "metadata": {},
   "outputs": [],
   "source": [
    "agg_cluster_part_re = AgglomerativeClustering(distance_threshold=None, n_clusters=4).fit(mun_geo_merged_clean_name_control[part_spatial])"
   ]
  },
  {
   "cell_type": "code",
   "execution_count": null,
   "id": "5422aefe-61d2-48c0-a7af-07a465a73d86",
   "metadata": {},
   "outputs": [],
   "source": [
    "# Storing re cluster labels\n",
    "mun_geo_merged_clean_name['part_spatial_hierarchical_4'] = agg_cluster_part_re.labels_"
   ]
  },
  {
   "cell_type": "code",
   "execution_count": null,
   "id": "f7227ec5-7ec5-4a88-9dfc-ccec30d3b160",
   "metadata": {},
   "outputs": [],
   "source": [
    "# Silhouette score\n",
    "metrics.silhouette_score(mun_geo_merged_clean_name_control[part_spatial], agg_cluster_part_re.labels_)"
   ]
  },
  {
   "cell_type": "code",
   "execution_count": null,
   "id": "695f6e62-7d27-4d4a-b862-3bfc400b5f61",
   "metadata": {},
   "outputs": [],
   "source": [
    "type(mun_geo_merged_clean_name)"
   ]
  },
  {
   "cell_type": "markdown",
   "id": "6d0c4171-280b-433c-9a0e-3e10ee340d0c",
   "metadata": {
    "tags": []
   },
   "source": [
    "### Spatial clustering - Max-p method"
   ]
  },
  {
   "cell_type": "markdown",
   "id": "60ce1aea-2e2d-4e0b-aec8-ac38e154521a",
   "metadata": {},
   "source": [
    "**Model variation in mun count and population thershold**"
   ]
  },
  {
   "cell_type": "code",
   "execution_count": null,
   "id": "009ef357-8663-4f1d-9f8a-393b339a6825",
   "metadata": {},
   "outputs": [],
   "source": [
    "#warnings.filterwarnings(\"ignore\")"
   ]
  },
  {
   "cell_type": "code",
   "execution_count": null,
   "id": "fe4189a8-f701-4081-a80c-abf8d6db7658",
   "metadata": {},
   "outputs": [],
   "source": [
    "# Non spatial variables\n",
    "non_spatial"
   ]
  },
  {
   "cell_type": "code",
   "execution_count": null,
   "id": "823c8b23-ca5b-4d75-8250-642ed4a57569",
   "metadata": {},
   "outputs": [],
   "source": [
    "# Non spatial variables to be considered in the spatial clustering\n",
    "attrs_name = non_spatial"
   ]
  },
  {
   "cell_type": "code",
   "execution_count": null,
   "id": "053b9357-7c9e-422a-8f41-e1aa9ca17135",
   "metadata": {},
   "outputs": [],
   "source": [
    "%%time\n",
    "# Caluclate the spatial weight object\n",
    "w = libpysal.weights.Queen.from_dataframe(mun_geo_merged_clean_name)"
   ]
  },
  {
   "cell_type": "markdown",
   "id": "90c626e5-513e-48a4-8452-0591b4001634",
   "metadata": {},
   "source": [
    "#### Population threshold"
   ]
  },
  {
   "cell_type": "markdown",
   "id": "0d2e199f-a030-4e81-aae4-d79d1f916f8f",
   "metadata": {},
   "source": [
    "##### Case 1"
   ]
  },
  {
   "cell_type": "code",
   "execution_count": null,
   "id": "1877cabd-5ffe-4491-bc7a-67b23b45e322",
   "metadata": {},
   "outputs": [],
   "source": [
    "# Maximum popupation unscaled value\n",
    "unscaled_max_pop= 7901653.0"
   ]
  },
  {
   "cell_type": "code",
   "execution_count": null,
   "id": "724d7fd0-20b1-4cc3-9fef-ca03d7305af3",
   "metadata": {},
   "outputs": [],
   "source": [
    "# Threshols based on a minimum population value of 100000, in terms of maximum population value\n",
    "threshold_100k_pop = 100000/unscaled_max_pop\n",
    "print(threshold_100k_pop)"
   ]
  },
  {
   "cell_type": "code",
   "execution_count": null,
   "id": "e5beb03b-6372-4226-9256-5e79e523531a",
   "metadata": {},
   "outputs": [],
   "source": [
    "# Scaled 2022 Population variable\n",
    "threshold_name_pop = 'Population - 2022'"
   ]
  },
  {
   "cell_type": "code",
   "execution_count": null,
   "id": "9be794a2-98b3-43d2-953a-1deaa311bf1d",
   "metadata": {},
   "outputs": [],
   "source": [
    "%%time\n",
    "RANDOM_SEED = 123456\n",
    "np.random.seed(RANDOM_SEED)\n",
    "model_max_p_pop_1 = MaxP(mun_geo_merged_clean_name, w, attrs_name, threshold_name_pop, threshold_100k_pop, top_n=3)\n",
    "model_max_p_pop_1.solve()"
   ]
  },
  {
   "cell_type": "code",
   "execution_count": null,
   "id": "2545e2c8-db26-4196-93a2-17fd0a132908",
   "metadata": {},
   "outputs": [],
   "source": [
    "mun_geo_merged_clean_name['spatial_max_p_pop_1'] = model_max_p_pop_1.labels_"
   ]
  },
  {
   "cell_type": "code",
   "execution_count": null,
   "id": "c7c93a90-9d5f-4780-833a-65c2e01774ea",
   "metadata": {},
   "outputs": [],
   "source": [
    "#Number of regions\n",
    "model_max_p_pop_1.p"
   ]
  },
  {
   "cell_type": "code",
   "execution_count": null,
   "id": "091f9f59-8370-4884-98e2-ef716d96f97b",
   "metadata": {},
   "outputs": [],
   "source": [
    "mun_geo_merged_clean_name[['spatial_max_p_pop_1','MPIO_CDPMP']].groupby('spatial_max_p_pop_1').count().sort_values(by='MPIO_CDPMP',ascending=False)"
   ]
  },
  {
   "cell_type": "code",
   "execution_count": null,
   "id": "cdc110f8-461f-4f71-9cc7-52a5d6747eb5",
   "metadata": {},
   "outputs": [],
   "source": [
    "# Histogram of Clustered municipalities\n",
    "mun_geo_merged_clean_name[['spatial_max_p_pop_1','MPIO_CDPMP']].groupby('spatial_max_p_pop_1').count().hist()"
   ]
  },
  {
   "cell_type": "code",
   "execution_count": null,
   "id": "5c68b657-b7ab-4faf-9da0-a06670a4d79a",
   "metadata": {},
   "outputs": [],
   "source": [
    "# Descriptive statistics of Clustered municipalities\n",
    "mun_geo_merged_clean_name[['spatial_max_p_pop_1','MPIO_CDPMP']].groupby('spatial_max_p_pop_1').count().describe().T"
   ]
  },
  {
   "cell_type": "code",
   "execution_count": null,
   "id": "3137af55-7fa1-4593-8599-78cac4f2e277",
   "metadata": {},
   "outputs": [],
   "source": [
    "mun_geo_merged_clean_name.plot(column='spatial_max_p_pop_1', categorical=True, figsize=(12,13),linewidth=0.5)"
   ]
  },
  {
   "cell_type": "code",
   "execution_count": null,
   "id": "6d4593f5-2c32-4ca7-9555-8f511ca88d20",
   "metadata": {},
   "outputs": [],
   "source": [
    "# Adjust\n",
    "# mun_geo_merged_clean_name[mun_geo_merged_clean_name.spatial_max_p_single==]"
   ]
  },
  {
   "cell_type": "code",
   "execution_count": null,
   "id": "1bc75577-1d36-44cc-a0a2-51bcf700f7bc",
   "metadata": {},
   "outputs": [],
   "source": [
    "#set(model_max_p_single.labels_)"
   ]
  },
  {
   "cell_type": "markdown",
   "id": "2f7edcb5-69c8-40df-aea7-2382d849665d",
   "metadata": {},
   "source": [
    "##### Case 2"
   ]
  },
  {
   "cell_type": "code",
   "execution_count": null,
   "id": "8e324241-ea86-4ebc-bf71-ea406bbbf5c9",
   "metadata": {},
   "outputs": [],
   "source": [
    "threshold_500k_pop = 500000/unscaled_max_pop\n",
    "print(threshold_500k_pop)"
   ]
  },
  {
   "cell_type": "code",
   "execution_count": null,
   "id": "a4079501-05a5-4698-8299-e6f3f2e698a2",
   "metadata": {},
   "outputs": [],
   "source": [
    "%%time\n",
    "RANDOM_SEED = 123456\n",
    "np.random.seed(RANDOM_SEED)\n",
    "model_max_p_pop_2 = MaxP(mun_geo_merged_clean_name, w, attrs_name, threshold_name_pop, threshold_500k_pop, top_n=3)\n",
    "model_max_p_pop_2.solve()"
   ]
  },
  {
   "cell_type": "code",
   "execution_count": null,
   "id": "5f4e2b5c-da18-40f7-859e-5ba271985b11",
   "metadata": {},
   "outputs": [],
   "source": [
    "mun_geo_merged_clean_name['spatial_max_p_pop_2'] = model_max_p_pop_2.labels_"
   ]
  },
  {
   "cell_type": "code",
   "execution_count": null,
   "id": "44741ddd-0275-4405-99b4-71bbff4db26b",
   "metadata": {},
   "outputs": [],
   "source": [
    "#Number of regions\n",
    "model_max_p_pop_2.p"
   ]
  },
  {
   "cell_type": "code",
   "execution_count": null,
   "id": "76d37854-e013-4aec-a712-5458d1943e6b",
   "metadata": {},
   "outputs": [],
   "source": [
    "mun_geo_merged_clean_name[['spatial_max_p_pop_2','MPIO_CDPMP']].groupby('spatial_max_p_pop_2').count().sort_values(by='MPIO_CDPMP',ascending=False)"
   ]
  },
  {
   "cell_type": "code",
   "execution_count": null,
   "id": "feda64b5-907e-4a59-a779-121e28e2d1ed",
   "metadata": {},
   "outputs": [],
   "source": [
    "# Histogram of Clustered municipalities\n",
    "mun_geo_merged_clean_name[['spatial_max_p_pop_2','MPIO_CDPMP']].groupby('spatial_max_p_pop_2').count().hist()"
   ]
  },
  {
   "cell_type": "code",
   "execution_count": null,
   "id": "3e5a6a64-1fca-4dce-9e71-80e82a97f46c",
   "metadata": {},
   "outputs": [],
   "source": [
    "# Descriptive statistics of Clustered municipalities\n",
    "mun_geo_merged_clean_name[['spatial_max_p_pop_2','MPIO_CDPMP']].groupby('spatial_max_p_pop_2').count().describe().T"
   ]
  },
  {
   "cell_type": "code",
   "execution_count": null,
   "id": "328c85bc-07d3-42f2-bc1c-5863ad08b14b",
   "metadata": {},
   "outputs": [],
   "source": [
    "mun_geo_merged_clean_name.plot(column='spatial_max_p_pop_2', categorical=True, figsize=(12,13),linewidth=0.5)"
   ]
  },
  {
   "cell_type": "code",
   "execution_count": null,
   "id": "32e94d9f-50d8-4f13-9198-96cac4f4a752",
   "metadata": {},
   "outputs": [],
   "source": [
    "# Adjust\n",
    "# mun_geo_merged_clean_name[mun_geo_merged_clean_name.spatial_max_p_single==]"
   ]
  },
  {
   "cell_type": "code",
   "execution_count": null,
   "id": "704f2077-ad4d-4fee-be5f-44d6b9d7dcde",
   "metadata": {},
   "outputs": [],
   "source": [
    "#set(model_max_p_single.labels_)"
   ]
  },
  {
   "cell_type": "markdown",
   "id": "526aeb5a-ff19-4560-9676-3332a03b46bd",
   "metadata": {},
   "source": [
    "##### Case 3"
   ]
  },
  {
   "cell_type": "code",
   "execution_count": null,
   "id": "3bc14e93-7a01-4953-b7d5-4db1c80e8e28",
   "metadata": {},
   "outputs": [],
   "source": [
    "threshold_1000k_pop = 1000000/unscaled_max_pop\n",
    "print(threshold_1000k_pop)"
   ]
  },
  {
   "cell_type": "code",
   "execution_count": null,
   "id": "4ba42e36-8230-452c-a56d-febd131156a2",
   "metadata": {},
   "outputs": [],
   "source": [
    "%%time\n",
    "RANDOM_SEED = 123456\n",
    "np.random.seed(RANDOM_SEED)\n",
    "model_max_p_pop_3 = MaxP(mun_geo_merged_clean_name, w, attrs_name, threshold_name_pop, threshold_1000k_pop, top_n=3)\n",
    "model_max_p_pop_3.solve()"
   ]
  },
  {
   "cell_type": "code",
   "execution_count": null,
   "id": "7d7026a8-d4d3-4b27-af37-9a74f12159bd",
   "metadata": {},
   "outputs": [],
   "source": [
    "mun_geo_merged_clean_name['spatial_max_p_pop_3'] = model_max_p_pop_3.labels_"
   ]
  },
  {
   "cell_type": "code",
   "execution_count": null,
   "id": "39eb95ef-0c11-478d-96b3-d80b716a2ad9",
   "metadata": {},
   "outputs": [],
   "source": [
    "#Number of regions\n",
    "model_max_p_pop_3.p"
   ]
  },
  {
   "cell_type": "code",
   "execution_count": null,
   "id": "fb675df4-9d53-4578-8bcc-4e8d299f4281",
   "metadata": {},
   "outputs": [],
   "source": [
    "mun_geo_merged_clean_name[['spatial_max_p_pop_3','MPIO_CDPMP']].groupby('spatial_max_p_pop_3').count().sort_values(by='MPIO_CDPMP',ascending=False)"
   ]
  },
  {
   "cell_type": "code",
   "execution_count": null,
   "id": "a82425e1-62cb-4bd9-a6ec-888ad3652cef",
   "metadata": {},
   "outputs": [],
   "source": [
    "# Histogram of Clustered municipalities\n",
    "mun_geo_merged_clean_name[['spatial_max_p_pop_3','MPIO_CDPMP']].groupby('spatial_max_p_pop_3').count().hist()"
   ]
  },
  {
   "cell_type": "code",
   "execution_count": null,
   "id": "3bb44366-6b15-434b-8810-4155eb4a6190",
   "metadata": {},
   "outputs": [],
   "source": [
    "# Descriptive statistics of Clustered municipalities\n",
    "mun_geo_merged_clean_name[['spatial_max_p_pop_3','MPIO_CDPMP']].groupby('spatial_max_p_pop_3').count().describe().T"
   ]
  },
  {
   "cell_type": "code",
   "execution_count": null,
   "id": "027ad2a4-de60-499d-869e-f8cc056e3d52",
   "metadata": {},
   "outputs": [],
   "source": [
    "mun_geo_merged_clean_name.plot(column='spatial_max_p_pop_3', categorical=True, figsize=(12,13),linewidth=0.5)"
   ]
  },
  {
   "cell_type": "markdown",
   "id": "b2a23b20-96a5-4c3d-8c57-c17cf858e6b8",
   "metadata": {},
   "source": [
    "#### Municipality threshold"
   ]
  },
  {
   "cell_type": "markdown",
   "id": "40947f57-7022-400b-ae93-2bc5f599713f",
   "metadata": {},
   "source": [
    "##### Case 1"
   ]
  },
  {
   "cell_type": "code",
   "execution_count": null,
   "id": "aea8fac2-f6b0-45b7-8597-32457086a9af",
   "metadata": {},
   "outputs": [],
   "source": [
    "threshold_5_mun = 5"
   ]
  },
  {
   "cell_type": "code",
   "execution_count": null,
   "id": "ea45717f-b100-419f-a4c2-387255e6b519",
   "metadata": {},
   "outputs": [],
   "source": [
    "mun_geo_merged_clean_name['count'] = 1"
   ]
  },
  {
   "cell_type": "code",
   "execution_count": null,
   "id": "fa5e221d-2857-4dd2-b777-5b1bb7cbf17f",
   "metadata": {},
   "outputs": [],
   "source": [
    "threshold_name_mun = 'count'"
   ]
  },
  {
   "cell_type": "code",
   "execution_count": null,
   "id": "670a4557-dfdd-41af-8e73-0ed746b3ac1f",
   "metadata": {},
   "outputs": [],
   "source": [
    "%%time\n",
    "RANDOM_SEED = 123456\n",
    "np.random.seed(RANDOM_SEED)\n",
    "model_max_p_mun_1 = MaxP(mun_geo_merged_clean_name, w, attrs_name, threshold_name_mun, threshold_5_mun, top_n=3)\n",
    "model_max_p_mun_1.solve()"
   ]
  },
  {
   "cell_type": "code",
   "execution_count": null,
   "id": "22609000-3312-4370-b364-839eade5f610",
   "metadata": {},
   "outputs": [],
   "source": [
    "mun_geo_merged_clean_name['spatial_max_p_mun_1'] = model_max_p_mun_1.labels_"
   ]
  },
  {
   "cell_type": "code",
   "execution_count": null,
   "id": "7304c8cc-3130-43b2-b8d4-04d17fca1961",
   "metadata": {},
   "outputs": [],
   "source": [
    "#Number of regions\n",
    "model_max_p_mun_1.p"
   ]
  },
  {
   "cell_type": "code",
   "execution_count": null,
   "id": "270731fb-04c3-445f-ae6c-57744ff53e0e",
   "metadata": {},
   "outputs": [],
   "source": [
    "mun_geo_merged_clean_name[['spatial_max_p_mun_1','MPIO_CDPMP']].groupby('spatial_max_p_mun_1').count().sort_values(by='MPIO_CDPMP',ascending=False)"
   ]
  },
  {
   "cell_type": "code",
   "execution_count": null,
   "id": "ef3103e2-88da-42a6-b433-221eec7f6323",
   "metadata": {},
   "outputs": [],
   "source": [
    "# Histogram of Clustered municipalities\n",
    "mun_geo_merged_clean_name[['spatial_max_p_mun_1','MPIO_CDPMP']].groupby('spatial_max_p_mun_1').count().hist()"
   ]
  },
  {
   "cell_type": "code",
   "execution_count": null,
   "id": "06490354-239c-42f4-b355-c7bec0f90ab2",
   "metadata": {},
   "outputs": [],
   "source": [
    "# Descriptive statistics of Clustered municipalities\n",
    "mun_geo_merged_clean_name[['spatial_max_p_mun_1','MPIO_CDPMP']].groupby('spatial_max_p_mun_1').count().describe().T"
   ]
  },
  {
   "cell_type": "code",
   "execution_count": null,
   "id": "f61e4c4b-df29-471a-8fac-4130c2b35631",
   "metadata": {},
   "outputs": [],
   "source": [
    "mun_geo_merged_clean_name.plot(column='spatial_max_p_mun_1', categorical=True, figsize=(12,13), cmap='Paired',linewidth=0.5)"
   ]
  },
  {
   "cell_type": "markdown",
   "id": "d1cdd80b-e0a9-4d20-85d2-3600314ea1a8",
   "metadata": {},
   "source": [
    "##### Case 2"
   ]
  },
  {
   "cell_type": "code",
   "execution_count": null,
   "id": "7c1233c5-3a37-45b2-847b-cd9df83000d1",
   "metadata": {},
   "outputs": [],
   "source": [
    "threshold_15_mun = 15"
   ]
  },
  {
   "cell_type": "code",
   "execution_count": null,
   "id": "edc9dc4f-df4b-4e3f-ae86-ceb245bd9615",
   "metadata": {},
   "outputs": [],
   "source": [
    "%%time\n",
    "RANDOM_SEED = 123456\n",
    "np.random.seed(RANDOM_SEED)\n",
    "model_max_p_mun_2 = MaxP(mun_geo_merged_clean_name, w, attrs_name, threshold_name_mun, threshold_15_mun, top_n=3)\n",
    "model_max_p_mun_2.solve()"
   ]
  },
  {
   "cell_type": "code",
   "execution_count": null,
   "id": "71908976-7e7f-4498-a275-7d8265ff6f83",
   "metadata": {},
   "outputs": [],
   "source": [
    "mun_geo_merged_clean_name['spatial_max_p_mun_2'] = model_max_p_mun_2.labels_"
   ]
  },
  {
   "cell_type": "code",
   "execution_count": null,
   "id": "27761742-6821-4149-a8b6-5254ee009cf5",
   "metadata": {},
   "outputs": [],
   "source": [
    "#Number of regions\n",
    "model_max_p_mun_2.p"
   ]
  },
  {
   "cell_type": "code",
   "execution_count": null,
   "id": "b1edd492-cf37-46dd-beaf-7efaca410803",
   "metadata": {},
   "outputs": [],
   "source": [
    "mun_geo_merged_clean_name[['spatial_max_p_mun_2','MPIO_CDPMP']].groupby('spatial_max_p_mun_2').count().sort_values(by='MPIO_CDPMP',ascending=False)"
   ]
  },
  {
   "cell_type": "code",
   "execution_count": null,
   "id": "8167dfb9-2edc-4fba-bfcb-8f6483e6075a",
   "metadata": {},
   "outputs": [],
   "source": [
    "# Histogram of Clustered municipalities\n",
    "mun_geo_merged_clean_name[['spatial_max_p_mun_2','MPIO_CDPMP']].groupby('spatial_max_p_mun_2').count().hist()"
   ]
  },
  {
   "cell_type": "code",
   "execution_count": null,
   "id": "ceacd407-5e3e-4bfd-b7b3-1763323087d5",
   "metadata": {},
   "outputs": [],
   "source": [
    "# Descriptive statistics of Clustered municipalities\n",
    "mun_geo_merged_clean_name[['spatial_max_p_mun_2','MPIO_CDPMP']].groupby('spatial_max_p_mun_2').count().describe().T"
   ]
  },
  {
   "cell_type": "code",
   "execution_count": null,
   "id": "01f97c47-d01b-4edc-bc58-7977dcac577a",
   "metadata": {},
   "outputs": [],
   "source": [
    "mun_geo_merged_clean_name.plot(column='spatial_max_p_mun_2', categorical=True, figsize=(12,13), cmap='Paired',linewidth=0.5)"
   ]
  },
  {
   "cell_type": "markdown",
   "id": "7b2e81ed-7cbd-4b30-8842-f2287a6ebcf6",
   "metadata": {},
   "source": [
    "##### Case 3"
   ]
  },
  {
   "cell_type": "code",
   "execution_count": null,
   "id": "a18f1c80-026b-4e33-929a-4aa8d0b8dca6",
   "metadata": {},
   "outputs": [],
   "source": [
    "threshold_25_mun = 25"
   ]
  },
  {
   "cell_type": "code",
   "execution_count": null,
   "id": "a491c6ec-6d56-4307-8b5e-bee75de9fd6d",
   "metadata": {},
   "outputs": [],
   "source": [
    "%%time\n",
    "RANDOM_SEED = 123456\n",
    "np.random.seed(RANDOM_SEED)\n",
    "model_max_p_mun_3 = MaxP(mun_geo_merged_clean_name, w, attrs_name, threshold_name_mun, threshold_25_mun, top_n=3)\n",
    "model_max_p_mun_3.solve()"
   ]
  },
  {
   "cell_type": "code",
   "execution_count": null,
   "id": "740ba5d6-abec-4b63-b528-6c4086c31641",
   "metadata": {},
   "outputs": [],
   "source": [
    "mun_geo_merged_clean_name['spatial_max_p_mun_3'] = model_max_p_mun_3.labels_"
   ]
  },
  {
   "cell_type": "code",
   "execution_count": null,
   "id": "d8f4af35-0534-4daa-9646-4106869a1783",
   "metadata": {},
   "outputs": [],
   "source": [
    "#Number of regions\n",
    "model_max_p_mun_3.p"
   ]
  },
  {
   "cell_type": "code",
   "execution_count": null,
   "id": "e6023b7a-734f-43cf-a8f8-d169b1b7458e",
   "metadata": {},
   "outputs": [],
   "source": [
    "mun_geo_merged_clean_name[['spatial_max_p_mun_3','MPIO_CDPMP']].groupby('spatial_max_p_mun_3').count().sort_values(by='MPIO_CDPMP',ascending=False)"
   ]
  },
  {
   "cell_type": "code",
   "execution_count": null,
   "id": "33277f0b-b59c-4eb1-ac47-4466fc9db3c2",
   "metadata": {},
   "outputs": [],
   "source": [
    "# Histogram of Clustered municipalities\n",
    "mun_geo_merged_clean_name[['spatial_max_p_mun_3','MPIO_CDPMP']].groupby('spatial_max_p_mun_3').count().hist()"
   ]
  },
  {
   "cell_type": "code",
   "execution_count": null,
   "id": "643ecfea-1b79-4435-a60d-47828d54bee3",
   "metadata": {},
   "outputs": [],
   "source": [
    "# Descriptive statistics of Clustered municipalities\n",
    "mun_geo_merged_clean_name[['spatial_max_p_mun_3','MPIO_CDPMP']].groupby('spatial_max_p_mun_3').count().describe().T"
   ]
  },
  {
   "cell_type": "code",
   "execution_count": null,
   "id": "fc96ae3b-3f42-4874-b617-02e0eb04eeea",
   "metadata": {},
   "outputs": [],
   "source": [
    "mun_geo_merged_clean_name.plot(column='spatial_max_p_mun_3', categorical=True, figsize=(12,13),linewidth=0.5)"
   ]
  },
  {
   "cell_type": "markdown",
   "id": "d51419bf-737e-41b8-afed-462ee250bc3a",
   "metadata": {},
   "source": [
    "## Results"
   ]
  },
  {
   "cell_type": "markdown",
   "id": "ccb43655-40bb-4bcd-ac7b-d580e31195d8",
   "metadata": {},
   "source": [
    "Include matriz with silhoutte scores /\n",
    "Geographic outputs with every method"
   ]
  },
  {
   "cell_type": "markdown",
   "id": "40de6345-5e4b-412a-94d7-688a4f8d22b2",
   "metadata": {},
   "source": [
    "### Partially and non spatial clustering"
   ]
  },
  {
   "cell_type": "code",
   "execution_count": null,
   "id": "a7f98423-a407-4e1c-8060-da3e97e4740b",
   "metadata": {},
   "outputs": [],
   "source": [
    "metrics.silhouette_score(mun_geo_merged_clean_name_control[non_spatial], mun_geo_merged_clean_name_control['DPTO_CCDGO'])"
   ]
  },
  {
   "cell_type": "code",
   "execution_count": null,
   "id": "14c970ee-3a4b-4ef1-92f5-511b3e932913",
   "metadata": {},
   "outputs": [],
   "source": [
    "metrics.silhouette_score(mun_geo_merged_clean_name_control[part_spatial], mun_geo_merged_clean_name_control['DPTO_CCDGO'])"
   ]
  },
  {
   "cell_type": "code",
   "execution_count": null,
   "id": "fdf7040e-307e-4543-98e5-9ff59babaafd",
   "metadata": {},
   "outputs": [],
   "source": [
    "# Create dictionaty with the results variables of interest\n",
    "results = {'Method': ['DBSCAN', 'DBSCAN', 'Kmeans', 'Kmeans','Hierarchical clustering', 'Hierarchical clustering'],\n",
    "          'Type': ['Non spatial', 'Partially spatial','Non spatial', 'Partially spatial','Non spatial', 'Partially spatial']}\n",
    "\n",
    "\n",
    "df_results = pd.DataFrame(results)\n",
    "\n",
    "method = ['non_spatial_dbscan','part_spatial_dbscan','non_spatial_kmeans_re','part_spatial_kmeans_re','non_spatial_hierarchical_4','part_spatial_hierarchical_4']\n",
    "\n",
    "num_clusters = []\n",
    "mun_mean = []\n",
    "mun_min = []\n",
    "mun_max = []\n",
    "\n",
    "\n",
    "for m in method:\n",
    "    n_clusters = len(mun_geo_merged_clean_name[m].unique())\n",
    "    m_mean = mun_geo_merged_clean_name.groupby(m)['MPIO_CDPMP'].count().mean()\n",
    "    m_min = mun_geo_merged_clean_name.groupby(m)['MPIO_CDPMP'].count().min()\n",
    "    m_max = mun_geo_merged_clean_name.groupby(m)['MPIO_CDPMP'].count().max()\n",
    "    \n",
    "    num_clusters.append(n_clusters)\n",
    "    mun_mean.append(m_mean)\n",
    "    mun_min.append(m_min)\n",
    "    mun_max.append(m_max)\n",
    "\n",
    "# add the results to a new column of the DataFrame\n",
    "df_results['Number of clusters'] = num_clusters\n",
    "df_results['Municipalities mean'] = mun_mean\n",
    "df_results['Municipalities minimum'] = mun_min\n",
    "df_results['Municipalities maximum'] = mun_max\n",
    "\n",
    "df_results['Silhouette score'] = [metrics.silhouette_score(mun_geo_merged_clean_name_control[non_spatial], dbsc_non.labels_),\n",
    "                                 metrics.silhouette_score(mun_geo_merged_clean_name_control[part_spatial], dbsc_part.labels_),\n",
    "                                 metrics.silhouette_score(mun_geo_merged_clean_name_control[non_spatial], kmeans_method_non_spatial_re.labels_),\n",
    "                                 metrics.silhouette_score(mun_geo_merged_clean_name_control[part_spatial], kmeans_method_part_spatial_re.labels_),\n",
    "                                 metrics.silhouette_score(mun_geo_merged_clean_name_control[non_spatial], agg_cluster_non_re.labels_),\n",
    "                                 metrics.silhouette_score(mun_geo_merged_clean_name_control[part_spatial], agg_cluster_part_re.labels_)]\n",
    "df_results"
   ]
  },
  {
   "cell_type": "markdown",
   "id": "840c9809-eb75-44b3-88a4-e8a512c23b4e",
   "metadata": {},
   "source": [
    "#### DBSCAN Clustering"
   ]
  },
  {
   "cell_type": "code",
   "execution_count": null,
   "id": "eb9eeef3-a0aa-416e-86d5-9e0256d37f38",
   "metadata": {},
   "outputs": [],
   "source": [
    "fig, [ax1,ax2,ax3] = plt.subplots(1, 3, sharey=False, tight_layout=True,figsize=(16, 6),linewidth=0.5)\n",
    "plt.suptitle(\"DBSCAN clustering\",fontsize=22)\n",
    "\n",
    "# Clustering results\n",
    "mun_geo_merged_clean_name.plot(column='DPTO_CCDGO', categorical=True,linewidth=0.5,ax=ax1)\n",
    "mun_geo_merged_clean_name.plot(column='non_spatial_dbscan', categorical=True,linewidth=0.5,ax=ax2)\n",
    "mun_geo_merged_clean_name.plot(column='part_spatial_dbscan', categorical=True,linewidth=0.5,ax=ax3)\n",
    "\n",
    "# Titles\n",
    "ax1.set_title(\"Current clusters\",fontsize=18)\n",
    "ax2.set_title(\"Non spatial\",fontsize=18)\n",
    "ax3.set_title(\"Part spatial\",fontsize=18)\n",
    "\n",
    "# Setting off axis ticks\n",
    "ax1.set_xticklabels([])\n",
    "ax2.set_xticklabels([])\n",
    "ax3.set_xticklabels([])\n",
    "ax1.set_yticklabels([])\n",
    "ax2.set_yticklabels([])\n",
    "ax3.set_yticklabels([])\n",
    "\n",
    "# X axis labels\n",
    "ax1.set_xlabel(\"K = \"+ str(len(mun_geo_merged_clean_name['DPTO_CCDGO'].unique())),fontsize=18)\n",
    "ax2.set_xlabel(\"K = \"+ str(df_results['Number of clusters'][0]),fontsize=18)\n",
    "ax3.set_xlabel(\"K = \"+ str(df_results['Number of clusters'][1]),fontsize=18)\n",
    "\n",
    "plt.savefig('Results_DBSCAN.jpg',dpi=300,bbox_inches='tight')"
   ]
  },
  {
   "cell_type": "markdown",
   "id": "c19f425b-7528-4ca5-83ed-5f6346792a93",
   "metadata": {},
   "source": [
    "**interpratation**"
   ]
  },
  {
   "cell_type": "markdown",
   "id": "e250abce-921a-41b3-a0fd-aeba1957b7f3",
   "metadata": {},
   "source": [
    "#### Kmeans Clustering"
   ]
  },
  {
   "cell_type": "code",
   "execution_count": null,
   "id": "a17037c5-0280-42cd-8548-0b6347382426",
   "metadata": {},
   "outputs": [],
   "source": [
    "fig, [ax1,ax2,ax3] = plt.subplots(1, 3, sharey=False, tight_layout=True,figsize=(16, 6),linewidth=0.5)\n",
    "plt.suptitle(\"Kmeans clustering\",fontsize=22)\n",
    "\n",
    "# Clustering results\n",
    "mun_geo_merged_clean_name.plot(column='DPTO_CCDGO', categorical=True,linewidth=0.5,ax=ax1)\n",
    "mun_geo_merged_clean_name.plot(column='non_spatial_kmeans_re', categorical=True,linewidth=0.5,ax=ax2)\n",
    "mun_geo_merged_clean_name.plot(column='part_spatial_kmeans_re', categorical=True,linewidth=0.5,ax=ax3)\n",
    "\n",
    "# Titles\n",
    "ax1.set_title(\"Current clusters\",fontsize=18)\n",
    "ax2.set_title(\"Non spatial\",fontsize=18)\n",
    "ax3.set_title(\"Part spatial\",fontsize=18)\n",
    "\n",
    "# Setting off axis ticks\n",
    "ax1.set_xticklabels([])\n",
    "ax2.set_xticklabels([])\n",
    "ax3.set_xticklabels([])\n",
    "ax1.set_yticklabels([])\n",
    "ax2.set_yticklabels([])\n",
    "ax3.set_yticklabels([])\n",
    "\n",
    "# X axis labels\n",
    "ax1.set_xlabel(\"K = \"+ str(len(mun_geo_merged_clean_name['DPTO_CCDGO'].unique())),fontsize=18)\n",
    "ax2.set_xlabel(\"K = \"+ str(df_results['Number of clusters'][2]),fontsize=18)\n",
    "ax3.set_xlabel(\"K = \"+ str(df_results['Number of clusters'][3]),fontsize=18)\n",
    "\n",
    "plt.savefig('Results_Kmeans.jpg',dpi=300,bbox_inches='tight')"
   ]
  },
  {
   "cell_type": "markdown",
   "id": "65774927-6d7e-4e00-bbe1-f55cc42ec492",
   "metadata": {},
   "source": [
    "**interpratation**"
   ]
  },
  {
   "cell_type": "markdown",
   "id": "1056cb35-256e-4ad3-90a9-12ba9ca037b9",
   "metadata": {},
   "source": [
    "#### Hierarchical clustering"
   ]
  },
  {
   "cell_type": "code",
   "execution_count": null,
   "id": "5e6740f3-d7a6-4a38-89ff-9a8981e8551f",
   "metadata": {},
   "outputs": [],
   "source": [
    "fig, [ax1,ax2,ax3] = plt.subplots(1, 3, sharey=False, tight_layout=True,figsize=(16, 6),linewidth=0.5)\n",
    "plt.suptitle(\"Hierarchical clustering\",fontsize=22)\n",
    "\n",
    "# Clustering results\n",
    "mun_geo_merged_clean_name.plot(column='DPTO_CCDGO', categorical=True,linewidth=0.5,ax=ax1)\n",
    "mun_geo_merged_clean_name.plot(column='non_spatial_hierarchical_4', categorical=True,linewidth=0.5,ax=ax2)\n",
    "mun_geo_merged_clean_name.plot(column='part_spatial_hierarchical_4', categorical=True,linewidth=0.5,ax=ax3)\n",
    "\n",
    "# Titles\n",
    "ax1.set_title(\"Current clusters\",fontsize=18)\n",
    "ax2.set_title(\"Non spatial\",fontsize=18)\n",
    "ax3.set_title(\"Part spatial\",fontsize=18)\n",
    "\n",
    "# Setting off axis ticks\n",
    "ax1.set_xticklabels([])\n",
    "ax2.set_xticklabels([])\n",
    "ax3.set_xticklabels([])\n",
    "ax1.set_yticklabels([])\n",
    "ax2.set_yticklabels([])\n",
    "ax3.set_yticklabels([])\n",
    "\n",
    "# X axis labels\n",
    "ax1.set_xlabel(\"K = \"+ str(len(mun_geo_merged_clean_name['DPTO_CCDGO'].unique())),fontsize=18)\n",
    "ax2.set_xlabel(\"K = \"+ str(df_results['Number of clusters'][4]),fontsize=18)\n",
    "ax3.set_xlabel(\"K = \"+ str(df_results['Number of clusters'][5]),fontsize=18)\n",
    "\n",
    "plt.savefig('Results_Hierarchical.jpg',dpi=300,bbox_inches='tight')"
   ]
  },
  {
   "cell_type": "markdown",
   "id": "0f8ba923-4b6b-440a-b9a9-a5aa0c830f8a",
   "metadata": {},
   "source": [
    "**interpratation**"
   ]
  },
  {
   "cell_type": "markdown",
   "id": "351c7b40-9711-4922-b2d3-47bf6aa7633e",
   "metadata": {},
   "source": [
    "### Spatial clustering"
   ]
  },
  {
   "cell_type": "code",
   "execution_count": null,
   "id": "08c1e009-debe-468d-937e-b66fefd3a011",
   "metadata": {},
   "outputs": [],
   "source": [
    "esda.path_silhouette(mun_geo_merged_clean_name[non_spatial].values,mun_geo_merged_clean_name['DPTO_CCDGO'], w).mean()"
   ]
  },
  {
   "cell_type": "code",
   "execution_count": null,
   "id": "bb362e3b-f12a-46dd-a405-4257e4ca63a7",
   "metadata": {},
   "outputs": [],
   "source": [
    "# Create dictionaty with the results variables of interest\n",
    "spatial_results = {'Variaple threshold': [threshold_name_pop, threshold_name_pop, threshold_name_pop, 'Number of municipalities','Number of municipalities', 'Number of municipalities'],\n",
    "          'Threshold value': [100000, 500000,1000000, threshold_5_mun,threshold_15_mun, threshold_25_mun]}\n",
    "\n",
    "df_spatial_results = pd.DataFrame(spatial_results)\n",
    "df_silhouette = pd.DataFrame()\n",
    "# Adjust\n",
    "spatial_method = ['spatial_max_p_pop_1','spatial_max_p_pop_2','spatial_max_p_pop_3','spatial_max_p_mun_1','spatial_max_p_mun_2','spatial_max_p_mun_3']\n",
    "\n",
    "s_num_clusters = []\n",
    "s_mun_mean = []\n",
    "s_mun_min = []\n",
    "s_mun_max = []\n",
    "p_silhouette = []\n",
    "\n",
    "\n",
    "for m in spatial_method:\n",
    "    s_n_clusters = len(mun_geo_merged_clean_name[m].unique())\n",
    "    s_m_mean = mun_geo_merged_clean_name.groupby(m)['MPIO_CDPMP'].count().mean()\n",
    "    s_m_min = mun_geo_merged_clean_name.groupby(m)['MPIO_CDPMP'].count().min()\n",
    "    s_m_max = mun_geo_merged_clean_name.groupby(m)['MPIO_CDPMP'].count().max()\n",
    "    df_silhouette[m] = esda.path_silhouette(mun_geo_merged_clean_name[non_spatial].values,mun_geo_merged_clean_name[m], w)\n",
    "    mean_p_sil_score = esda.path_silhouette(mun_geo_merged_clean_name[non_spatial].values,mun_geo_merged_clean_name[m], w).mean()\n",
    "    \n",
    "    s_num_clusters.append(s_n_clusters)\n",
    "    s_mun_mean.append(s_m_mean)\n",
    "    s_mun_min.append(s_m_min)\n",
    "    s_mun_max.append(s_m_max)\n",
    "    p_silhouette.append(mean_p_sil_score)\n",
    "\n",
    "# add the results to a new column of the DataFrame\n",
    "df_spatial_results['Number of clusters'] = s_num_clusters\n",
    "df_spatial_results['Municipalities mean'] = s_mun_mean\n",
    "df_spatial_results['Municipalities minimum'] = s_mun_min\n",
    "df_spatial_results['Municipalities maximum'] = s_mun_max\n",
    "df_spatial_results['Mean path silhouette score'] = p_silhouette\n",
    "\n",
    "\n",
    "df_spatial_results"
   ]
  },
  {
   "cell_type": "code",
   "execution_count": null,
   "id": "751090e0-8eb2-45ad-aa5e-c1fb6ead33e0",
   "metadata": {},
   "outputs": [],
   "source": [
    "df_silhouette_clean_name = df_silhouette.rename(columns={spatial_method[0]: 'Population threshold - 100K',\n",
    "                                                         spatial_method[1]: 'Population threshold - 500K',\n",
    "                                                spatial_method[2]:'Population threshold - 1000K',\n",
    "                                                spatial_method[3]:'Municipality threshold - 5',\n",
    "                                                spatial_method[4]:'Municipality threshold - 15',\n",
    "                                                spatial_method[5]: 'Municipality threshold - 25'})\n",
    "df_silhouette_clean_name.head()"
   ]
  },
  {
   "cell_type": "code",
   "execution_count": null,
   "id": "41a5090d-7c3a-4b9a-afb5-97bdb2015bf7",
   "metadata": {},
   "outputs": [],
   "source": [
    "df_silhouette_clean_name_hist = df_silhouette_clean_name.hist(figsize = (20,10),bins=75)\n",
    "plt.suptitle('Histograms path silhouette score')\n",
    "#ax.set_title(\"test\")\n",
    "plt.subplots_adjust(hspace=0.4, wspace=0.4)\n",
    "plt.show()"
   ]
  },
  {
   "cell_type": "markdown",
   "id": "5bf14ce1-620e-4987-b8d6-52666b07fedb",
   "metadata": {
    "jp-MarkdownHeadingCollapsed": true,
    "tags": []
   },
   "source": [
    "## Discussion"
   ]
  },
  {
   "cell_type": "markdown",
   "id": "51d0cc5f-037d-4421-9544-f540d40f4c8d",
   "metadata": {},
   "source": [
    "## Conclusion"
   ]
  },
  {
   "cell_type": "markdown",
   "id": "9d9c68c3-9917-44df-b52b-acd12a004939",
   "metadata": {},
   "source": [
    "## References"
   ]
  },
  {
   "cell_type": "markdown",
   "id": "729acb69-f9e6-4499-afc3-2cb41888d0da",
   "metadata": {},
   "source": [
    "Andrés, F., Arteaga, N., Arteaga, G., Llinás, D., Andrés, M., Jorge, A., Rueda-Gallardo, J., and Villamil. (2015). ‘Definición de Categorías de Ruralidad [Definition of Rurality Categories]’. Archivos de Economía.\n",
    "\n",
    "\n",
    "DANE. (2021). Geoportal DANE - Descarga del Marco Geoestadistico Nacional (MGN) [DANE Geoportal - Download the National Geostatistical Framework (MGN)]. Available at: https://geoportal.dane.gov.co/servicios/descarga-y-metadatos/descarga-mgn-marco-geoestadistico-nacional/ (Accessed: 23 April 2023).\n",
    "\n",
    "\n",
    "Duranton, G. (2015). ‘Roads and trade in Colombia’. Economics of Transportation. (Special Issue on Collective Contributions in the Honor of Richard Arnott), 4 (1), pp. 16–36. doi: 10.1016/j.ecotra.2014.11.003.\n",
    "\n",
    "\n",
    "Gáfaro, M. and Pellegrina, H. S. (2022). ‘Trade, farmers’ heterogeneity, and agricultural productivity: Evidence from Colombia’. Journal of International Economics, 137, p. 103598. doi: 10.1016/j.jinteco.2022.103598.\n",
    "\n",
    "\n",
    "Sanchez, C. C., González, D. S. and Villamil, I. O. (2015). ‘Tipologías Departamentales y Municipales: una propuesta para comprender las entidades territoriales colombianas [Departmental and Municipal Typologies: a proposal to understand Colombian territorial entities]’. Available at: https://colaboracion.dnp.gov.co/CDT/Estudios%20Econmicos/2015may28%20Tipologias.pdf (Accessed: 3 April 2023).\n",
    "\n",
    "\n",
    "Sánchez, F. and Núñez’, J. (2000). ‘Geography and Economic Development: A Municipal Approach for Colombia’.\n",
    "\n",
    "\n",
    "\n"
   ]
  },
  {
   "cell_type": "code",
   "execution_count": null,
   "id": "020b933d-fd92-4efd-a464-ceff47c5a28f",
   "metadata": {},
   "outputs": [],
   "source": [
    "print('Complete run time: ' + str((timeit.default_timer() - start_time)/60)+' minutes.')"
   ]
  }
 ],
 "metadata": {
  "kernelspec": {
   "display_name": "Python 3 (ipykernel)",
   "language": "python",
   "name": "python3"
  },
  "language_info": {
   "codemirror_mode": {
    "name": "ipython",
    "version": 3
   },
   "file_extension": ".py",
   "mimetype": "text/x-python",
   "name": "python",
   "nbconvert_exporter": "python",
   "pygments_lexer": "ipython3",
   "version": "3.10.5"
  },
  "toc-autonumbering": true,
  "toc-showcode": false,
  "toc-showmarkdowntxt": false,
  "toc-showtags": false
 },
 "nbformat": 4,
 "nbformat_minor": 5
}
